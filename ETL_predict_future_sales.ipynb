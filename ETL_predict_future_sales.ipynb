{
  "nbformat": 4,
  "nbformat_minor": 0,
  "metadata": {
    "colab": {
      "provenance": [],
      "collapsed_sections": [
        "zXCiPuMslD13"
      ]
    },
    "kernelspec": {
      "name": "python3",
      "display_name": "Python 3"
    },
    "language_info": {
      "name": "python"
    }
  },
  "cells": [
    {
      "cell_type": "markdown",
      "source": [
        "## <font color=\"orange\">*1. Librerias*</font>"
      ],
      "metadata": {
        "id": "7bnCbXTHCRMf"
      }
    },
    {
      "cell_type": "code",
      "source": [
        "#!pip install ydata-profiling"
      ],
      "metadata": {
        "id": "Am3-uw8UjWu0"
      },
      "execution_count": null,
      "outputs": []
    },
    {
      "cell_type": "code",
      "source": [
        "#!pip install deep_translator"
      ],
      "metadata": {
        "id": "rq9FGvdvR77F"
      },
      "execution_count": null,
      "outputs": []
    },
    {
      "cell_type": "code",
      "source": [
        "#!pip install pandasql"
      ],
      "metadata": {
        "id": "QDnEWlNStpEo"
      },
      "execution_count": null,
      "outputs": []
    },
    {
      "cell_type": "code",
      "source": [
        "#!pip install category-encoders"
      ],
      "metadata": {
        "id": "dnNxskLLRdTC"
      },
      "execution_count": null,
      "outputs": []
    },
    {
      "cell_type": "code",
      "source": [
        "import os\n",
        "import os.path\n",
        "\n",
        "import numpy as np\n",
        "import pandas as pd\n",
        "import seaborn as sns\n",
        "import matplotlib.pyplot as plt\n",
        "\n",
        "from ydata_profiling import ProfileReport\n",
        "\n",
        "from deep_translator import GoogleTranslator\n",
        "from pandasql import sqldf\n",
        "\n",
        "from gensim.models import Word2Vec\n",
        "import category_encoders as ce\n",
        "\n",
        "from sklearn import preprocessing\n",
        "from sklearn.preprocessing import MinMaxScaler"
      ],
      "metadata": {
        "id": "7apmjkON_TI8"
      },
      "execution_count": null,
      "outputs": []
    },
    {
      "cell_type": "code",
      "source": [
        "# Alojamiento del archivo\n",
        "from google.colab import drive\n",
        "drive.mount('/content/drive')"
      ],
      "metadata": {
        "colab": {
          "base_uri": "https://localhost:8080/"
        },
        "id": "VFApJ8n7_zFk",
        "outputId": "f3c34d23-e14f-43e3-89f2-a409ca5367d7"
      },
      "execution_count": null,
      "outputs": [
        {
          "output_type": "stream",
          "name": "stdout",
          "text": [
            "Mounted at /content/drive\n"
          ]
        }
      ]
    },
    {
      "cell_type": "markdown",
      "source": [
        "## <font color=\"orange\">*2. Importar los dataset desde Kaggle.com*</font>\n",
        "[LINK Datasets](https://www.kaggle.com/competitions/competitive-data-science-predict-future-sales/data)"
      ],
      "metadata": {
        "id": "tk6gjb8mB9BA"
      }
    },
    {
      "cell_type": "code",
      "execution_count": null,
      "metadata": {
        "id": "tLYCEZ-Ovu-Q"
      },
      "outputs": [],
      "source": [
        "os.environ['KAGGLE_CONFIG_DIR'] = \"/content/Kaggle\""
      ]
    },
    {
      "cell_type": "code",
      "source": [
        "!kaggle competitions download -c competitive-data-science-predict-future-sales"
      ],
      "metadata": {
        "id": "mcYDS-BL-tst",
        "colab": {
          "base_uri": "https://localhost:8080/"
        },
        "outputId": "dbba260d-ae5a-469e-f13c-de9e21d6801b"
      },
      "execution_count": null,
      "outputs": [
        {
          "output_type": "stream",
          "name": "stdout",
          "text": [
            "Warning: Your Kaggle API key is readable by other users on this system! To fix this, you can run 'chmod 600 /content/Kaggle/kaggle.json'\n",
            "Downloading competitive-data-science-predict-future-sales.zip to /content\n",
            " 79% 12.0M/15.1M [00:01<00:00, 12.9MB/s]\n",
            "100% 15.1M/15.1M [00:01<00:00, 12.5MB/s]\n"
          ]
        }
      ]
    },
    {
      "cell_type": "code",
      "source": [
        "# Descompresion de la carpeta .zip\n",
        "!unzip competitive-data-science-predict-future-sales.zip"
      ],
      "metadata": {
        "id": "ZJu_iGQN_CS6",
        "colab": {
          "base_uri": "https://localhost:8080/"
        },
        "outputId": "ebd8e01e-4fe8-4778-ba22-96abc5128ce2"
      },
      "execution_count": null,
      "outputs": [
        {
          "output_type": "stream",
          "name": "stdout",
          "text": [
            "Archive:  competitive-data-science-predict-future-sales.zip\n",
            "  inflating: item_categories.csv     \n",
            "  inflating: items.csv               \n",
            "  inflating: sales_train.csv         \n",
            "  inflating: sample_submission.csv   \n",
            "  inflating: shops.csv               \n",
            "  inflating: test.csv                \n"
          ]
        }
      ]
    },
    {
      "cell_type": "markdown",
      "source": [
        "## <font color=\"orange\">*3. Preprocesamiento*</font>\n",
        "\n",
        "### Objetivo:\n",
        " - Realizar el respectivo análisis exploratorio (EDA) de los datasets.\n",
        " - Realizar las transformaciones necesarias.\n",
        "\n",
        "### Resultado:\n",
        " - Dataset **\"train_cleaned\"** y **\"test_pred\"** cuyas columnas son:\n",
        "  - **item_id_scal** y **shop_id_scal**: item_id y shop_id escalados mediante MinMaxScaler.\n",
        "  - **label_mean_encoder**: recategorización de item_category codificadas mediante Target/MeanEncoding.\n",
        "  - **label_embedding**: recategorización de item_category codificadas mediante Embedding.\n",
        "  - **columnas de mes**: del **0 al 33** en el dataset \"train_cleaned\" y del **-1 al 32** en el dataset \"test_pred\"."
      ],
      "metadata": {
        "id": "fau6JFklCv5G"
      }
    },
    {
      "cell_type": "markdown",
      "source": [
        "Datasets."
      ],
      "metadata": {
        "id": "ASdjE3Q041iT"
      }
    },
    {
      "cell_type": "code",
      "source": [
        "item_category = pd.read_csv('/content/item_categories.csv')\n",
        "items  = pd.read_csv('/content/items.csv')\n",
        "shops = pd.read_csv('/content/shops.csv')\n",
        "train = pd.read_csv('/content/sales_train.csv')\n",
        "test = pd.read_csv('/content/test.csv')"
      ],
      "metadata": {
        "id": "1bFC-lxkCu8Y"
      },
      "execution_count": null,
      "outputs": []
    },
    {
      "cell_type": "markdown",
      "source": [
        "Función utilizada en el EDA de los datasets."
      ],
      "metadata": {
        "id": "i5FXRWwm4eRt"
      }
    },
    {
      "cell_type": "code",
      "source": [
        "# Validación de datos positivos y enteros, ej. los ids\n",
        "def invalids_val (values):\n",
        "  '''\n",
        "  Validación de valores que deben ser positivos y enteros.\n",
        "\n",
        "  Args:\n",
        "      values (np.array): Un arreglo de valores a validar.\n",
        "  Returns:\n",
        "      Si todos los valores son válidos, retorna un msj de OK,\n",
        "      de lo contrario ...\n",
        "      invalids_values (lista): Lista de valores inválidos.\n",
        "\n",
        "  '''\n",
        "  invalids_values =  [value for value in values if (value < 0) or not isinstance(value, int)]\n",
        "\n",
        "  if not invalids_values:\n",
        "    print('OK, valores positivos y enteros')\n",
        "\n",
        "  else:\n",
        "    return invalids_values"
      ],
      "metadata": {
        "id": "760nET3y1p-R"
      },
      "execution_count": null,
      "outputs": []
    },
    {
      "cell_type": "markdown",
      "source": [
        "### 3.1. EDA - \"*item_category*\"\n"
      ],
      "metadata": {
        "id": "zcxjrX81micJ"
      }
    },
    {
      "cell_type": "code",
      "source": [
        "item_category.info()"
      ],
      "metadata": {
        "colab": {
          "base_uri": "https://localhost:8080/"
        },
        "id": "9d-Jk2LLa38e",
        "outputId": "47ccd328-cb82-4e86-fe16-a4a1f42f2947"
      },
      "execution_count": null,
      "outputs": [
        {
          "output_type": "stream",
          "name": "stdout",
          "text": [
            "<class 'pandas.core.frame.DataFrame'>\n",
            "RangeIndex: 84 entries, 0 to 83\n",
            "Data columns (total 2 columns):\n",
            " #   Column              Non-Null Count  Dtype \n",
            "---  ------              --------------  ----- \n",
            " 0   item_category_name  84 non-null     object\n",
            " 1   item_category_id    84 non-null     int64 \n",
            "dtypes: int64(1), object(1)\n",
            "memory usage: 1.4+ KB\n"
          ]
        }
      ]
    },
    {
      "cell_type": "code",
      "source": [
        "item_category.item_category_id.nunique()"
      ],
      "metadata": {
        "colab": {
          "base_uri": "https://localhost:8080/"
        },
        "id": "UXlL6qvXExTq",
        "outputId": "cd0049ad-dbe0-445a-e311-61b235bcd64c"
      },
      "execution_count": null,
      "outputs": [
        {
          "output_type": "execute_result",
          "data": {
            "text/plain": [
              "84"
            ]
          },
          "metadata": {},
          "execution_count": 14
        }
      ]
    },
    {
      "cell_type": "code",
      "source": [
        "max_item_category_id= item_category.item_category_id.max()\n",
        "max_item_category_id"
      ],
      "metadata": {
        "colab": {
          "base_uri": "https://localhost:8080/"
        },
        "id": "TTFYKbzxErvK",
        "outputId": "e448bf1c-0d81-48a8-a5b9-2a9e5dddadf7"
      },
      "execution_count": null,
      "outputs": [
        {
          "output_type": "execute_result",
          "data": {
            "text/plain": [
              "83"
            ]
          },
          "metadata": {},
          "execution_count": 15
        }
      ]
    },
    {
      "cell_type": "markdown",
      "source": [
        "### 3.2. EDA - \"*items*\""
      ],
      "metadata": {
        "id": "Eqz_i7_8E8RT"
      }
    },
    {
      "cell_type": "code",
      "source": [
        "items.info()"
      ],
      "metadata": {
        "colab": {
          "base_uri": "https://localhost:8080/"
        },
        "id": "heZ1cHxAm26z",
        "outputId": "7fede625-0fd3-42bf-b61b-393e13de2416"
      },
      "execution_count": null,
      "outputs": [
        {
          "output_type": "stream",
          "name": "stdout",
          "text": [
            "<class 'pandas.core.frame.DataFrame'>\n",
            "RangeIndex: 22170 entries, 0 to 22169\n",
            "Data columns (total 3 columns):\n",
            " #   Column            Non-Null Count  Dtype \n",
            "---  ------            --------------  ----- \n",
            " 0   item_name         22170 non-null  object\n",
            " 1   item_id           22170 non-null  int64 \n",
            " 2   item_category_id  22170 non-null  int64 \n",
            "dtypes: int64(2), object(1)\n",
            "memory usage: 519.7+ KB\n"
          ]
        }
      ]
    },
    {
      "cell_type": "code",
      "source": [
        "items.item_id.nunique()"
      ],
      "metadata": {
        "colab": {
          "base_uri": "https://localhost:8080/"
        },
        "id": "NHaSkxY8m9rb",
        "outputId": "acd44b21-f427-4af0-d56a-4892a2bc33a0"
      },
      "execution_count": null,
      "outputs": [
        {
          "output_type": "execute_result",
          "data": {
            "text/plain": [
              "22170"
            ]
          },
          "metadata": {},
          "execution_count": 17
        }
      ]
    },
    {
      "cell_type": "code",
      "source": [
        "max_item_id= items.item_id.max()\n",
        "max_item_id"
      ],
      "metadata": {
        "colab": {
          "base_uri": "https://localhost:8080/"
        },
        "id": "YCzbLh5ZVG6D",
        "outputId": "25ea2de9-ccd2-4c7d-deae-0794186257f5"
      },
      "execution_count": null,
      "outputs": [
        {
          "output_type": "execute_result",
          "data": {
            "text/plain": [
              "22169"
            ]
          },
          "metadata": {},
          "execution_count": 18
        }
      ]
    },
    {
      "cell_type": "code",
      "source": [
        "items.item_category_id.max()"
      ],
      "metadata": {
        "colab": {
          "base_uri": "https://localhost:8080/"
        },
        "id": "uux6eqD5VZ2C",
        "outputId": "953047a5-33b3-44ae-973c-0c610881353b"
      },
      "execution_count": null,
      "outputs": [
        {
          "output_type": "execute_result",
          "data": {
            "text/plain": [
              "83"
            ]
          },
          "metadata": {},
          "execution_count": 19
        }
      ]
    },
    {
      "cell_type": "code",
      "source": [
        "# Validación de ids, positivos y enteros\n",
        "invalids_val(items.item_category_id.unique())\n",
        "invalids_val(items.item_id.unique())"
      ],
      "metadata": {
        "colab": {
          "base_uri": "https://localhost:8080/"
        },
        "id": "LX2t2fGHFKZC",
        "outputId": "2bd79aef-44fd-443d-e692-650bfc9ffbcf"
      },
      "execution_count": null,
      "outputs": [
        {
          "output_type": "stream",
          "name": "stdout",
          "text": [
            "OK, valores positivos y enteros\n",
            "OK, valores positivos y enteros\n"
          ]
        }
      ]
    },
    {
      "cell_type": "markdown",
      "source": [
        "### 3.3. EDA - \"*shops*\""
      ],
      "metadata": {
        "id": "miSqbnwMPIAl"
      }
    },
    {
      "cell_type": "code",
      "source": [
        "shops.info()"
      ],
      "metadata": {
        "colab": {
          "base_uri": "https://localhost:8080/"
        },
        "id": "PeYgxuFR84xV",
        "outputId": "f9a3ed8b-ac97-479d-cc00-b9e5828fa8c7"
      },
      "execution_count": null,
      "outputs": [
        {
          "output_type": "stream",
          "name": "stdout",
          "text": [
            "<class 'pandas.core.frame.DataFrame'>\n",
            "RangeIndex: 60 entries, 0 to 59\n",
            "Data columns (total 2 columns):\n",
            " #   Column     Non-Null Count  Dtype \n",
            "---  ------     --------------  ----- \n",
            " 0   shop_name  60 non-null     object\n",
            " 1   shop_id    60 non-null     int64 \n",
            "dtypes: int64(1), object(1)\n",
            "memory usage: 1.1+ KB\n"
          ]
        }
      ]
    },
    {
      "cell_type": "code",
      "source": [
        "shops.shop_id.nunique()"
      ],
      "metadata": {
        "colab": {
          "base_uri": "https://localhost:8080/"
        },
        "id": "fqTqYz7l9Cwm",
        "outputId": "02741b6f-8ab0-4c62-a40f-90d4c516c3e5"
      },
      "execution_count": null,
      "outputs": [
        {
          "output_type": "execute_result",
          "data": {
            "text/plain": [
              "60"
            ]
          },
          "metadata": {},
          "execution_count": 22
        }
      ]
    },
    {
      "cell_type": "code",
      "source": [
        "max_shop_id= shops.shop_id.max()\n",
        "max_shop_id"
      ],
      "metadata": {
        "colab": {
          "base_uri": "https://localhost:8080/"
        },
        "id": "Gg3Sb2ECVEo0",
        "outputId": "9254ec5a-e8cc-4926-fb58-d3a363a3d398"
      },
      "execution_count": null,
      "outputs": [
        {
          "output_type": "execute_result",
          "data": {
            "text/plain": [
              "59"
            ]
          },
          "metadata": {},
          "execution_count": 23
        }
      ]
    },
    {
      "cell_type": "code",
      "source": [
        "# Validación de ids, positivos y enteros\n",
        "invalids_val(shops.shop_id.unique())"
      ],
      "metadata": {
        "colab": {
          "base_uri": "https://localhost:8080/"
        },
        "id": "cX-X5i_XYP-S",
        "outputId": "bc188c8f-4bce-42cd-823e-c82632f0435f"
      },
      "execution_count": null,
      "outputs": [
        {
          "output_type": "stream",
          "name": "stdout",
          "text": [
            "OK, valores positivos y enteros\n"
          ]
        }
      ]
    },
    {
      "cell_type": "markdown",
      "source": [
        "### 3.4. EDA - \"*train*\""
      ],
      "metadata": {
        "id": "JLI4RjIDoqqj"
      }
    },
    {
      "cell_type": "code",
      "source": [
        "train.info()"
      ],
      "metadata": {
        "colab": {
          "base_uri": "https://localhost:8080/"
        },
        "id": "sufPMT5BD5fI",
        "outputId": "97eb097e-bd4e-428a-9b2f-664533481d85"
      },
      "execution_count": null,
      "outputs": [
        {
          "output_type": "stream",
          "name": "stdout",
          "text": [
            "<class 'pandas.core.frame.DataFrame'>\n",
            "RangeIndex: 2935849 entries, 0 to 2935848\n",
            "Data columns (total 6 columns):\n",
            " #   Column          Dtype  \n",
            "---  ------          -----  \n",
            " 0   date            object \n",
            " 1   date_block_num  int64  \n",
            " 2   shop_id         int64  \n",
            " 3   item_id         int64  \n",
            " 4   item_price      float64\n",
            " 5   item_cnt_day    float64\n",
            "dtypes: float64(2), int64(3), object(1)\n",
            "memory usage: 134.4+ MB\n"
          ]
        }
      ]
    },
    {
      "cell_type": "code",
      "source": [
        "train.describe()"
      ],
      "metadata": {
        "colab": {
          "base_uri": "https://localhost:8080/",
          "height": 300
        },
        "id": "pOMmhr5ogKWt",
        "outputId": "66e6cc99-cf43-4091-da6c-80c5c23dea4a"
      },
      "execution_count": null,
      "outputs": [
        {
          "output_type": "execute_result",
          "data": {
            "text/plain": [
              "       date_block_num       shop_id       item_id    item_price  item_cnt_day\n",
              "count    2.935849e+06  2.935849e+06  2.935849e+06  2.935849e+06  2.935849e+06\n",
              "mean     1.456991e+01  3.300173e+01  1.019723e+04  8.908532e+02  1.242641e+00\n",
              "std      9.422988e+00  1.622697e+01  6.324297e+03  1.729800e+03  2.618834e+00\n",
              "min      0.000000e+00  0.000000e+00  0.000000e+00 -1.000000e+00 -2.200000e+01\n",
              "25%      7.000000e+00  2.200000e+01  4.476000e+03  2.490000e+02  1.000000e+00\n",
              "50%      1.400000e+01  3.100000e+01  9.343000e+03  3.990000e+02  1.000000e+00\n",
              "75%      2.300000e+01  4.700000e+01  1.568400e+04  9.990000e+02  1.000000e+00\n",
              "max      3.300000e+01  5.900000e+01  2.216900e+04  3.079800e+05  2.169000e+03"
            ],
            "text/html": [
              "\n",
              "  <div id=\"df-9c249b96-910f-4f9d-a472-aac894713c53\" class=\"colab-df-container\">\n",
              "    <div>\n",
              "<style scoped>\n",
              "    .dataframe tbody tr th:only-of-type {\n",
              "        vertical-align: middle;\n",
              "    }\n",
              "\n",
              "    .dataframe tbody tr th {\n",
              "        vertical-align: top;\n",
              "    }\n",
              "\n",
              "    .dataframe thead th {\n",
              "        text-align: right;\n",
              "    }\n",
              "</style>\n",
              "<table border=\"1\" class=\"dataframe\">\n",
              "  <thead>\n",
              "    <tr style=\"text-align: right;\">\n",
              "      <th></th>\n",
              "      <th>date_block_num</th>\n",
              "      <th>shop_id</th>\n",
              "      <th>item_id</th>\n",
              "      <th>item_price</th>\n",
              "      <th>item_cnt_day</th>\n",
              "    </tr>\n",
              "  </thead>\n",
              "  <tbody>\n",
              "    <tr>\n",
              "      <th>count</th>\n",
              "      <td>2.935849e+06</td>\n",
              "      <td>2.935849e+06</td>\n",
              "      <td>2.935849e+06</td>\n",
              "      <td>2.935849e+06</td>\n",
              "      <td>2.935849e+06</td>\n",
              "    </tr>\n",
              "    <tr>\n",
              "      <th>mean</th>\n",
              "      <td>1.456991e+01</td>\n",
              "      <td>3.300173e+01</td>\n",
              "      <td>1.019723e+04</td>\n",
              "      <td>8.908532e+02</td>\n",
              "      <td>1.242641e+00</td>\n",
              "    </tr>\n",
              "    <tr>\n",
              "      <th>std</th>\n",
              "      <td>9.422988e+00</td>\n",
              "      <td>1.622697e+01</td>\n",
              "      <td>6.324297e+03</td>\n",
              "      <td>1.729800e+03</td>\n",
              "      <td>2.618834e+00</td>\n",
              "    </tr>\n",
              "    <tr>\n",
              "      <th>min</th>\n",
              "      <td>0.000000e+00</td>\n",
              "      <td>0.000000e+00</td>\n",
              "      <td>0.000000e+00</td>\n",
              "      <td>-1.000000e+00</td>\n",
              "      <td>-2.200000e+01</td>\n",
              "    </tr>\n",
              "    <tr>\n",
              "      <th>25%</th>\n",
              "      <td>7.000000e+00</td>\n",
              "      <td>2.200000e+01</td>\n",
              "      <td>4.476000e+03</td>\n",
              "      <td>2.490000e+02</td>\n",
              "      <td>1.000000e+00</td>\n",
              "    </tr>\n",
              "    <tr>\n",
              "      <th>50%</th>\n",
              "      <td>1.400000e+01</td>\n",
              "      <td>3.100000e+01</td>\n",
              "      <td>9.343000e+03</td>\n",
              "      <td>3.990000e+02</td>\n",
              "      <td>1.000000e+00</td>\n",
              "    </tr>\n",
              "    <tr>\n",
              "      <th>75%</th>\n",
              "      <td>2.300000e+01</td>\n",
              "      <td>4.700000e+01</td>\n",
              "      <td>1.568400e+04</td>\n",
              "      <td>9.990000e+02</td>\n",
              "      <td>1.000000e+00</td>\n",
              "    </tr>\n",
              "    <tr>\n",
              "      <th>max</th>\n",
              "      <td>3.300000e+01</td>\n",
              "      <td>5.900000e+01</td>\n",
              "      <td>2.216900e+04</td>\n",
              "      <td>3.079800e+05</td>\n",
              "      <td>2.169000e+03</td>\n",
              "    </tr>\n",
              "  </tbody>\n",
              "</table>\n",
              "</div>\n",
              "    <div class=\"colab-df-buttons\">\n",
              "\n",
              "  <div class=\"colab-df-container\">\n",
              "    <button class=\"colab-df-convert\" onclick=\"convertToInteractive('df-9c249b96-910f-4f9d-a472-aac894713c53')\"\n",
              "            title=\"Convert this dataframe to an interactive table.\"\n",
              "            style=\"display:none;\">\n",
              "\n",
              "  <svg xmlns=\"http://www.w3.org/2000/svg\" height=\"24px\" viewBox=\"0 -960 960 960\">\n",
              "    <path d=\"M120-120v-720h720v720H120Zm60-500h600v-160H180v160Zm220 220h160v-160H400v160Zm0 220h160v-160H400v160ZM180-400h160v-160H180v160Zm440 0h160v-160H620v160ZM180-180h160v-160H180v160Zm440 0h160v-160H620v160Z\"/>\n",
              "  </svg>\n",
              "    </button>\n",
              "\n",
              "  <style>\n",
              "    .colab-df-container {\n",
              "      display:flex;\n",
              "      gap: 12px;\n",
              "    }\n",
              "\n",
              "    .colab-df-convert {\n",
              "      background-color: #E8F0FE;\n",
              "      border: none;\n",
              "      border-radius: 50%;\n",
              "      cursor: pointer;\n",
              "      display: none;\n",
              "      fill: #1967D2;\n",
              "      height: 32px;\n",
              "      padding: 0 0 0 0;\n",
              "      width: 32px;\n",
              "    }\n",
              "\n",
              "    .colab-df-convert:hover {\n",
              "      background-color: #E2EBFA;\n",
              "      box-shadow: 0px 1px 2px rgba(60, 64, 67, 0.3), 0px 1px 3px 1px rgba(60, 64, 67, 0.15);\n",
              "      fill: #174EA6;\n",
              "    }\n",
              "\n",
              "    .colab-df-buttons div {\n",
              "      margin-bottom: 4px;\n",
              "    }\n",
              "\n",
              "    [theme=dark] .colab-df-convert {\n",
              "      background-color: #3B4455;\n",
              "      fill: #D2E3FC;\n",
              "    }\n",
              "\n",
              "    [theme=dark] .colab-df-convert:hover {\n",
              "      background-color: #434B5C;\n",
              "      box-shadow: 0px 1px 3px 1px rgba(0, 0, 0, 0.15);\n",
              "      filter: drop-shadow(0px 1px 2px rgba(0, 0, 0, 0.3));\n",
              "      fill: #FFFFFF;\n",
              "    }\n",
              "  </style>\n",
              "\n",
              "    <script>\n",
              "      const buttonEl =\n",
              "        document.querySelector('#df-9c249b96-910f-4f9d-a472-aac894713c53 button.colab-df-convert');\n",
              "      buttonEl.style.display =\n",
              "        google.colab.kernel.accessAllowed ? 'block' : 'none';\n",
              "\n",
              "      async function convertToInteractive(key) {\n",
              "        const element = document.querySelector('#df-9c249b96-910f-4f9d-a472-aac894713c53');\n",
              "        const dataTable =\n",
              "          await google.colab.kernel.invokeFunction('convertToInteractive',\n",
              "                                                    [key], {});\n",
              "        if (!dataTable) return;\n",
              "\n",
              "        const docLinkHtml = 'Like what you see? Visit the ' +\n",
              "          '<a target=\"_blank\" href=https://colab.research.google.com/notebooks/data_table.ipynb>data table notebook</a>'\n",
              "          + ' to learn more about interactive tables.';\n",
              "        element.innerHTML = '';\n",
              "        dataTable['output_type'] = 'display_data';\n",
              "        await google.colab.output.renderOutput(dataTable, element);\n",
              "        const docLink = document.createElement('div');\n",
              "        docLink.innerHTML = docLinkHtml;\n",
              "        element.appendChild(docLink);\n",
              "      }\n",
              "    </script>\n",
              "  </div>\n",
              "\n",
              "\n",
              "<div id=\"df-c58e5c00-a649-4d19-b800-2ef7def776aa\">\n",
              "  <button class=\"colab-df-quickchart\" onclick=\"quickchart('df-c58e5c00-a649-4d19-b800-2ef7def776aa')\"\n",
              "            title=\"Suggest charts\"\n",
              "            style=\"display:none;\">\n",
              "\n",
              "<svg xmlns=\"http://www.w3.org/2000/svg\" height=\"24px\"viewBox=\"0 0 24 24\"\n",
              "     width=\"24px\">\n",
              "    <g>\n",
              "        <path d=\"M19 3H5c-1.1 0-2 .9-2 2v14c0 1.1.9 2 2 2h14c1.1 0 2-.9 2-2V5c0-1.1-.9-2-2-2zM9 17H7v-7h2v7zm4 0h-2V7h2v10zm4 0h-2v-4h2v4z\"/>\n",
              "    </g>\n",
              "</svg>\n",
              "  </button>\n",
              "\n",
              "<style>\n",
              "  .colab-df-quickchart {\n",
              "      --bg-color: #E8F0FE;\n",
              "      --fill-color: #1967D2;\n",
              "      --hover-bg-color: #E2EBFA;\n",
              "      --hover-fill-color: #174EA6;\n",
              "      --disabled-fill-color: #AAA;\n",
              "      --disabled-bg-color: #DDD;\n",
              "  }\n",
              "\n",
              "  [theme=dark] .colab-df-quickchart {\n",
              "      --bg-color: #3B4455;\n",
              "      --fill-color: #D2E3FC;\n",
              "      --hover-bg-color: #434B5C;\n",
              "      --hover-fill-color: #FFFFFF;\n",
              "      --disabled-bg-color: #3B4455;\n",
              "      --disabled-fill-color: #666;\n",
              "  }\n",
              "\n",
              "  .colab-df-quickchart {\n",
              "    background-color: var(--bg-color);\n",
              "    border: none;\n",
              "    border-radius: 50%;\n",
              "    cursor: pointer;\n",
              "    display: none;\n",
              "    fill: var(--fill-color);\n",
              "    height: 32px;\n",
              "    padding: 0;\n",
              "    width: 32px;\n",
              "  }\n",
              "\n",
              "  .colab-df-quickchart:hover {\n",
              "    background-color: var(--hover-bg-color);\n",
              "    box-shadow: 0 1px 2px rgba(60, 64, 67, 0.3), 0 1px 3px 1px rgba(60, 64, 67, 0.15);\n",
              "    fill: var(--button-hover-fill-color);\n",
              "  }\n",
              "\n",
              "  .colab-df-quickchart-complete:disabled,\n",
              "  .colab-df-quickchart-complete:disabled:hover {\n",
              "    background-color: var(--disabled-bg-color);\n",
              "    fill: var(--disabled-fill-color);\n",
              "    box-shadow: none;\n",
              "  }\n",
              "\n",
              "  .colab-df-spinner {\n",
              "    border: 2px solid var(--fill-color);\n",
              "    border-color: transparent;\n",
              "    border-bottom-color: var(--fill-color);\n",
              "    animation:\n",
              "      spin 1s steps(1) infinite;\n",
              "  }\n",
              "\n",
              "  @keyframes spin {\n",
              "    0% {\n",
              "      border-color: transparent;\n",
              "      border-bottom-color: var(--fill-color);\n",
              "      border-left-color: var(--fill-color);\n",
              "    }\n",
              "    20% {\n",
              "      border-color: transparent;\n",
              "      border-left-color: var(--fill-color);\n",
              "      border-top-color: var(--fill-color);\n",
              "    }\n",
              "    30% {\n",
              "      border-color: transparent;\n",
              "      border-left-color: var(--fill-color);\n",
              "      border-top-color: var(--fill-color);\n",
              "      border-right-color: var(--fill-color);\n",
              "    }\n",
              "    40% {\n",
              "      border-color: transparent;\n",
              "      border-right-color: var(--fill-color);\n",
              "      border-top-color: var(--fill-color);\n",
              "    }\n",
              "    60% {\n",
              "      border-color: transparent;\n",
              "      border-right-color: var(--fill-color);\n",
              "    }\n",
              "    80% {\n",
              "      border-color: transparent;\n",
              "      border-right-color: var(--fill-color);\n",
              "      border-bottom-color: var(--fill-color);\n",
              "    }\n",
              "    90% {\n",
              "      border-color: transparent;\n",
              "      border-bottom-color: var(--fill-color);\n",
              "    }\n",
              "  }\n",
              "</style>\n",
              "\n",
              "  <script>\n",
              "    async function quickchart(key) {\n",
              "      const quickchartButtonEl =\n",
              "        document.querySelector('#' + key + ' button');\n",
              "      quickchartButtonEl.disabled = true;  // To prevent multiple clicks.\n",
              "      quickchartButtonEl.classList.add('colab-df-spinner');\n",
              "      try {\n",
              "        const charts = await google.colab.kernel.invokeFunction(\n",
              "            'suggestCharts', [key], {});\n",
              "      } catch (error) {\n",
              "        console.error('Error during call to suggestCharts:', error);\n",
              "      }\n",
              "      quickchartButtonEl.classList.remove('colab-df-spinner');\n",
              "      quickchartButtonEl.classList.add('colab-df-quickchart-complete');\n",
              "    }\n",
              "    (() => {\n",
              "      let quickchartButtonEl =\n",
              "        document.querySelector('#df-c58e5c00-a649-4d19-b800-2ef7def776aa button');\n",
              "      quickchartButtonEl.style.display =\n",
              "        google.colab.kernel.accessAllowed ? 'block' : 'none';\n",
              "    })();\n",
              "  </script>\n",
              "</div>\n",
              "\n",
              "    </div>\n",
              "  </div>\n"
            ],
            "application/vnd.google.colaboratory.intrinsic+json": {
              "type": "dataframe",
              "summary": "{\n  \"name\": \"train\",\n  \"rows\": 8,\n  \"fields\": [\n    {\n      \"column\": \"date_block_num\",\n      \"properties\": {\n        \"dtype\": \"number\",\n        \"std\": 1037974.2673568203,\n        \"min\": 0.0,\n        \"max\": 2935849.0,\n        \"num_unique_values\": 8,\n        \"samples\": [\n          14.56991146343017,\n          14.0,\n          2935849.0\n        ],\n        \"semantic_type\": \"\",\n        \"description\": \"\"\n      }\n    },\n    {\n      \"column\": \"shop_id\",\n      \"properties\": {\n        \"dtype\": \"number\",\n        \"std\": 1037968.8512400592,\n        \"min\": 0.0,\n        \"max\": 2935849.0,\n        \"num_unique_values\": 8,\n        \"samples\": [\n          33.001728290521754,\n          31.0,\n          2935849.0\n        ],\n        \"semantic_type\": \"\",\n        \"description\": \"\"\n      }\n    },\n    {\n      \"column\": \"item_id\",\n      \"properties\": {\n        \"dtype\": \"number\",\n        \"std\": 1034557.4743104326,\n        \"min\": 0.0,\n        \"max\": 2935849.0,\n        \"num_unique_values\": 8,\n        \"samples\": [\n          10197.227056977385,\n          9343.0,\n          2935849.0\n        ],\n        \"semantic_type\": \"\",\n        \"description\": \"\"\n      }\n    },\n    {\n      \"column\": \"item_price\",\n      \"properties\": {\n        \"dtype\": \"number\",\n        \"std\": 1027847.9852142168,\n        \"min\": -1.0,\n        \"max\": 2935849.0,\n        \"num_unique_values\": 8,\n        \"samples\": [\n          890.8532326980126,\n          399.0,\n          2935849.0\n        ],\n        \"semantic_type\": \"\",\n        \"description\": \"\"\n      }\n    },\n    {\n      \"column\": \"item_cnt_day\",\n      \"properties\": {\n        \"dtype\": \"number\",\n        \"std\": 1037870.8599891799,\n        \"min\": -22.0,\n        \"max\": 2935849.0,\n        \"num_unique_values\": 6,\n        \"samples\": [\n          2935849.0,\n          1.242640885140891,\n          2169.0\n        ],\n        \"semantic_type\": \"\",\n        \"description\": \"\"\n      }\n    }\n  ]\n}"
            }
          },
          "metadata": {},
          "execution_count": 26
        }
      ]
    },
    {
      "cell_type": "code",
      "source": [
        "# EDA Report\n",
        "report = ProfileReport(train, title=\"train_EDA\")\n",
        "report"
      ],
      "metadata": {
        "id": "30Znr5y2gMS_"
      },
      "execution_count": null,
      "outputs": []
    },
    {
      "cell_type": "code",
      "source": [
        "# Eliminar los duplicados\n",
        "before = train.shape[0]\n",
        "\n",
        "train.drop_duplicates(inplace = True)\n",
        "train.reset_index(drop=True, inplace=True)\n",
        "\n",
        "after = train.shape[0]\n",
        "\n",
        "print(f'Eliminación de registros duplicados \\nCantidad de registros eliminados: {before-after}')"
      ],
      "metadata": {
        "colab": {
          "base_uri": "https://localhost:8080/"
        },
        "id": "XM80FtsfGO5e",
        "outputId": "3fd68ceb-6d6b-4eac-ddd3-054ee50f63f5"
      },
      "execution_count": null,
      "outputs": [
        {
          "output_type": "stream",
          "name": "stdout",
          "text": [
            "Eliminacion de registros duplicados \n",
            "Cantidad de registros eliminanados: 6\n"
          ]
        }
      ]
    },
    {
      "cell_type": "markdown",
      "source": [
        "'item_cnt_day' hace referencia a los número de productos vendidos.\n",
        "\n",
        "'item_price' hace referencia al precio del artículo.\n",
        "\n",
        "A continuación, se puede ver que existen valores negativos en ambas columnas, estos valores seran eliminados."
      ],
      "metadata": {
        "id": "huCZEsVngs2k"
      }
    },
    {
      "cell_type": "code",
      "source": [
        "# item_cnt_day negativos\n",
        "train[train['item_cnt_day'] < 0].head()"
      ],
      "metadata": {
        "colab": {
          "base_uri": "https://localhost:8080/",
          "height": 206
        },
        "id": "JTOxF4GMY0Ot",
        "outputId": "afbab8d5-0aa3-4f6e-8c62-aecbba3da46d"
      },
      "execution_count": null,
      "outputs": [
        {
          "output_type": "execute_result",
          "data": {
            "text/plain": [
              "            date  date_block_num  shop_id  item_id  item_price  item_cnt_day\n",
              "2     05.01.2013               0       25     2552       899.0          -1.0\n",
              "148   23.01.2013               0       25     2321       999.0          -1.0\n",
              "175   07.01.2013               0       25     2199      1449.0          -1.0\n",
              "807   02.01.2013               0       25     2330       599.0          -1.0\n",
              "1041  13.01.2013               0       25     5034      1989.0          -1.0"
            ],
            "text/html": [
              "\n",
              "  <div id=\"df-1ccbb4b0-f3c0-47e3-954c-d2a092c542d3\" class=\"colab-df-container\">\n",
              "    <div>\n",
              "<style scoped>\n",
              "    .dataframe tbody tr th:only-of-type {\n",
              "        vertical-align: middle;\n",
              "    }\n",
              "\n",
              "    .dataframe tbody tr th {\n",
              "        vertical-align: top;\n",
              "    }\n",
              "\n",
              "    .dataframe thead th {\n",
              "        text-align: right;\n",
              "    }\n",
              "</style>\n",
              "<table border=\"1\" class=\"dataframe\">\n",
              "  <thead>\n",
              "    <tr style=\"text-align: right;\">\n",
              "      <th></th>\n",
              "      <th>date</th>\n",
              "      <th>date_block_num</th>\n",
              "      <th>shop_id</th>\n",
              "      <th>item_id</th>\n",
              "      <th>item_price</th>\n",
              "      <th>item_cnt_day</th>\n",
              "    </tr>\n",
              "  </thead>\n",
              "  <tbody>\n",
              "    <tr>\n",
              "      <th>2</th>\n",
              "      <td>05.01.2013</td>\n",
              "      <td>0</td>\n",
              "      <td>25</td>\n",
              "      <td>2552</td>\n",
              "      <td>899.0</td>\n",
              "      <td>-1.0</td>\n",
              "    </tr>\n",
              "    <tr>\n",
              "      <th>148</th>\n",
              "      <td>23.01.2013</td>\n",
              "      <td>0</td>\n",
              "      <td>25</td>\n",
              "      <td>2321</td>\n",
              "      <td>999.0</td>\n",
              "      <td>-1.0</td>\n",
              "    </tr>\n",
              "    <tr>\n",
              "      <th>175</th>\n",
              "      <td>07.01.2013</td>\n",
              "      <td>0</td>\n",
              "      <td>25</td>\n",
              "      <td>2199</td>\n",
              "      <td>1449.0</td>\n",
              "      <td>-1.0</td>\n",
              "    </tr>\n",
              "    <tr>\n",
              "      <th>807</th>\n",
              "      <td>02.01.2013</td>\n",
              "      <td>0</td>\n",
              "      <td>25</td>\n",
              "      <td>2330</td>\n",
              "      <td>599.0</td>\n",
              "      <td>-1.0</td>\n",
              "    </tr>\n",
              "    <tr>\n",
              "      <th>1041</th>\n",
              "      <td>13.01.2013</td>\n",
              "      <td>0</td>\n",
              "      <td>25</td>\n",
              "      <td>5034</td>\n",
              "      <td>1989.0</td>\n",
              "      <td>-1.0</td>\n",
              "    </tr>\n",
              "  </tbody>\n",
              "</table>\n",
              "</div>\n",
              "    <div class=\"colab-df-buttons\">\n",
              "\n",
              "  <div class=\"colab-df-container\">\n",
              "    <button class=\"colab-df-convert\" onclick=\"convertToInteractive('df-1ccbb4b0-f3c0-47e3-954c-d2a092c542d3')\"\n",
              "            title=\"Convert this dataframe to an interactive table.\"\n",
              "            style=\"display:none;\">\n",
              "\n",
              "  <svg xmlns=\"http://www.w3.org/2000/svg\" height=\"24px\" viewBox=\"0 -960 960 960\">\n",
              "    <path d=\"M120-120v-720h720v720H120Zm60-500h600v-160H180v160Zm220 220h160v-160H400v160Zm0 220h160v-160H400v160ZM180-400h160v-160H180v160Zm440 0h160v-160H620v160ZM180-180h160v-160H180v160Zm440 0h160v-160H620v160Z\"/>\n",
              "  </svg>\n",
              "    </button>\n",
              "\n",
              "  <style>\n",
              "    .colab-df-container {\n",
              "      display:flex;\n",
              "      gap: 12px;\n",
              "    }\n",
              "\n",
              "    .colab-df-convert {\n",
              "      background-color: #E8F0FE;\n",
              "      border: none;\n",
              "      border-radius: 50%;\n",
              "      cursor: pointer;\n",
              "      display: none;\n",
              "      fill: #1967D2;\n",
              "      height: 32px;\n",
              "      padding: 0 0 0 0;\n",
              "      width: 32px;\n",
              "    }\n",
              "\n",
              "    .colab-df-convert:hover {\n",
              "      background-color: #E2EBFA;\n",
              "      box-shadow: 0px 1px 2px rgba(60, 64, 67, 0.3), 0px 1px 3px 1px rgba(60, 64, 67, 0.15);\n",
              "      fill: #174EA6;\n",
              "    }\n",
              "\n",
              "    .colab-df-buttons div {\n",
              "      margin-bottom: 4px;\n",
              "    }\n",
              "\n",
              "    [theme=dark] .colab-df-convert {\n",
              "      background-color: #3B4455;\n",
              "      fill: #D2E3FC;\n",
              "    }\n",
              "\n",
              "    [theme=dark] .colab-df-convert:hover {\n",
              "      background-color: #434B5C;\n",
              "      box-shadow: 0px 1px 3px 1px rgba(0, 0, 0, 0.15);\n",
              "      filter: drop-shadow(0px 1px 2px rgba(0, 0, 0, 0.3));\n",
              "      fill: #FFFFFF;\n",
              "    }\n",
              "  </style>\n",
              "\n",
              "    <script>\n",
              "      const buttonEl =\n",
              "        document.querySelector('#df-1ccbb4b0-f3c0-47e3-954c-d2a092c542d3 button.colab-df-convert');\n",
              "      buttonEl.style.display =\n",
              "        google.colab.kernel.accessAllowed ? 'block' : 'none';\n",
              "\n",
              "      async function convertToInteractive(key) {\n",
              "        const element = document.querySelector('#df-1ccbb4b0-f3c0-47e3-954c-d2a092c542d3');\n",
              "        const dataTable =\n",
              "          await google.colab.kernel.invokeFunction('convertToInteractive',\n",
              "                                                    [key], {});\n",
              "        if (!dataTable) return;\n",
              "\n",
              "        const docLinkHtml = 'Like what you see? Visit the ' +\n",
              "          '<a target=\"_blank\" href=https://colab.research.google.com/notebooks/data_table.ipynb>data table notebook</a>'\n",
              "          + ' to learn more about interactive tables.';\n",
              "        element.innerHTML = '';\n",
              "        dataTable['output_type'] = 'display_data';\n",
              "        await google.colab.output.renderOutput(dataTable, element);\n",
              "        const docLink = document.createElement('div');\n",
              "        docLink.innerHTML = docLinkHtml;\n",
              "        element.appendChild(docLink);\n",
              "      }\n",
              "    </script>\n",
              "  </div>\n",
              "\n",
              "\n",
              "<div id=\"df-4defe8f0-e233-46c1-9691-2db0078239d9\">\n",
              "  <button class=\"colab-df-quickchart\" onclick=\"quickchart('df-4defe8f0-e233-46c1-9691-2db0078239d9')\"\n",
              "            title=\"Suggest charts\"\n",
              "            style=\"display:none;\">\n",
              "\n",
              "<svg xmlns=\"http://www.w3.org/2000/svg\" height=\"24px\"viewBox=\"0 0 24 24\"\n",
              "     width=\"24px\">\n",
              "    <g>\n",
              "        <path d=\"M19 3H5c-1.1 0-2 .9-2 2v14c0 1.1.9 2 2 2h14c1.1 0 2-.9 2-2V5c0-1.1-.9-2-2-2zM9 17H7v-7h2v7zm4 0h-2V7h2v10zm4 0h-2v-4h2v4z\"/>\n",
              "    </g>\n",
              "</svg>\n",
              "  </button>\n",
              "\n",
              "<style>\n",
              "  .colab-df-quickchart {\n",
              "      --bg-color: #E8F0FE;\n",
              "      --fill-color: #1967D2;\n",
              "      --hover-bg-color: #E2EBFA;\n",
              "      --hover-fill-color: #174EA6;\n",
              "      --disabled-fill-color: #AAA;\n",
              "      --disabled-bg-color: #DDD;\n",
              "  }\n",
              "\n",
              "  [theme=dark] .colab-df-quickchart {\n",
              "      --bg-color: #3B4455;\n",
              "      --fill-color: #D2E3FC;\n",
              "      --hover-bg-color: #434B5C;\n",
              "      --hover-fill-color: #FFFFFF;\n",
              "      --disabled-bg-color: #3B4455;\n",
              "      --disabled-fill-color: #666;\n",
              "  }\n",
              "\n",
              "  .colab-df-quickchart {\n",
              "    background-color: var(--bg-color);\n",
              "    border: none;\n",
              "    border-radius: 50%;\n",
              "    cursor: pointer;\n",
              "    display: none;\n",
              "    fill: var(--fill-color);\n",
              "    height: 32px;\n",
              "    padding: 0;\n",
              "    width: 32px;\n",
              "  }\n",
              "\n",
              "  .colab-df-quickchart:hover {\n",
              "    background-color: var(--hover-bg-color);\n",
              "    box-shadow: 0 1px 2px rgba(60, 64, 67, 0.3), 0 1px 3px 1px rgba(60, 64, 67, 0.15);\n",
              "    fill: var(--button-hover-fill-color);\n",
              "  }\n",
              "\n",
              "  .colab-df-quickchart-complete:disabled,\n",
              "  .colab-df-quickchart-complete:disabled:hover {\n",
              "    background-color: var(--disabled-bg-color);\n",
              "    fill: var(--disabled-fill-color);\n",
              "    box-shadow: none;\n",
              "  }\n",
              "\n",
              "  .colab-df-spinner {\n",
              "    border: 2px solid var(--fill-color);\n",
              "    border-color: transparent;\n",
              "    border-bottom-color: var(--fill-color);\n",
              "    animation:\n",
              "      spin 1s steps(1) infinite;\n",
              "  }\n",
              "\n",
              "  @keyframes spin {\n",
              "    0% {\n",
              "      border-color: transparent;\n",
              "      border-bottom-color: var(--fill-color);\n",
              "      border-left-color: var(--fill-color);\n",
              "    }\n",
              "    20% {\n",
              "      border-color: transparent;\n",
              "      border-left-color: var(--fill-color);\n",
              "      border-top-color: var(--fill-color);\n",
              "    }\n",
              "    30% {\n",
              "      border-color: transparent;\n",
              "      border-left-color: var(--fill-color);\n",
              "      border-top-color: var(--fill-color);\n",
              "      border-right-color: var(--fill-color);\n",
              "    }\n",
              "    40% {\n",
              "      border-color: transparent;\n",
              "      border-right-color: var(--fill-color);\n",
              "      border-top-color: var(--fill-color);\n",
              "    }\n",
              "    60% {\n",
              "      border-color: transparent;\n",
              "      border-right-color: var(--fill-color);\n",
              "    }\n",
              "    80% {\n",
              "      border-color: transparent;\n",
              "      border-right-color: var(--fill-color);\n",
              "      border-bottom-color: var(--fill-color);\n",
              "    }\n",
              "    90% {\n",
              "      border-color: transparent;\n",
              "      border-bottom-color: var(--fill-color);\n",
              "    }\n",
              "  }\n",
              "</style>\n",
              "\n",
              "  <script>\n",
              "    async function quickchart(key) {\n",
              "      const quickchartButtonEl =\n",
              "        document.querySelector('#' + key + ' button');\n",
              "      quickchartButtonEl.disabled = true;  // To prevent multiple clicks.\n",
              "      quickchartButtonEl.classList.add('colab-df-spinner');\n",
              "      try {\n",
              "        const charts = await google.colab.kernel.invokeFunction(\n",
              "            'suggestCharts', [key], {});\n",
              "      } catch (error) {\n",
              "        console.error('Error during call to suggestCharts:', error);\n",
              "      }\n",
              "      quickchartButtonEl.classList.remove('colab-df-spinner');\n",
              "      quickchartButtonEl.classList.add('colab-df-quickchart-complete');\n",
              "    }\n",
              "    (() => {\n",
              "      let quickchartButtonEl =\n",
              "        document.querySelector('#df-4defe8f0-e233-46c1-9691-2db0078239d9 button');\n",
              "      quickchartButtonEl.style.display =\n",
              "        google.colab.kernel.accessAllowed ? 'block' : 'none';\n",
              "    })();\n",
              "  </script>\n",
              "</div>\n",
              "\n",
              "    </div>\n",
              "  </div>\n"
            ],
            "application/vnd.google.colaboratory.intrinsic+json": {
              "type": "dataframe",
              "summary": "{\n  \"name\": \"train[train['item_cnt_day'] < 0]\",\n  \"rows\": 5,\n  \"fields\": [\n    {\n      \"column\": \"date\",\n      \"properties\": {\n        \"dtype\": \"string\",\n        \"num_unique_values\": 5,\n        \"samples\": [\n          \"23.01.2013\",\n          \"13.01.2013\",\n          \"07.01.2013\"\n        ],\n        \"semantic_type\": \"\",\n        \"description\": \"\"\n      }\n    },\n    {\n      \"column\": \"date_block_num\",\n      \"properties\": {\n        \"dtype\": \"number\",\n        \"std\": 0,\n        \"min\": 0,\n        \"max\": 0,\n        \"num_unique_values\": 1,\n        \"samples\": [\n          0\n        ],\n        \"semantic_type\": \"\",\n        \"description\": \"\"\n      }\n    },\n    {\n      \"column\": \"shop_id\",\n      \"properties\": {\n        \"dtype\": \"number\",\n        \"std\": 0,\n        \"min\": 25,\n        \"max\": 25,\n        \"num_unique_values\": 1,\n        \"samples\": [\n          25\n        ],\n        \"semantic_type\": \"\",\n        \"description\": \"\"\n      }\n    },\n    {\n      \"column\": \"item_id\",\n      \"properties\": {\n        \"dtype\": \"number\",\n        \"std\": 1206,\n        \"min\": 2199,\n        \"max\": 5034,\n        \"num_unique_values\": 5,\n        \"samples\": [\n          2321\n        ],\n        \"semantic_type\": \"\",\n        \"description\": \"\"\n      }\n    },\n    {\n      \"column\": \"item_price\",\n      \"properties\": {\n        \"dtype\": \"number\",\n        \"std\": 542.1900035965252,\n        \"min\": 599.0,\n        \"max\": 1989.0,\n        \"num_unique_values\": 5,\n        \"samples\": [\n          999.0\n        ],\n        \"semantic_type\": \"\",\n        \"description\": \"\"\n      }\n    },\n    {\n      \"column\": \"item_cnt_day\",\n      \"properties\": {\n        \"dtype\": \"number\",\n        \"std\": 0.0,\n        \"min\": -1.0,\n        \"max\": -1.0,\n        \"num_unique_values\": 1,\n        \"samples\": [\n          -1.0\n        ],\n        \"semantic_type\": \"\",\n        \"description\": \"\"\n      }\n    }\n  ]\n}"
            }
          },
          "metadata": {},
          "execution_count": 29
        }
      ]
    },
    {
      "cell_type": "code",
      "source": [
        "# Eliminar registros donde 'item_price' o 'item_cnt_day' son negativos\n",
        "price_drop = list(train[train['item_price'] < 0].index)\n",
        "item_cnt_drop = list(train[train['item_cnt_day'] < 0].index)\n",
        "\n",
        "list_drop = list(set(price_drop + item_cnt_drop))\n",
        "print(\"Eliminación de registros con 'precios' o 'cantidades vendidas' negativas\")\n",
        "print(f'Cantidad de registros a eliminar: {len(list_drop)}')\n",
        "print(f'Porcentaje de registros a eliminar: {round(len(list_drop) * 100 / train.shape[0] , 2)}%')\n",
        "\n",
        "train.drop(list_drop, inplace = True)"
      ],
      "metadata": {
        "colab": {
          "base_uri": "https://localhost:8080/"
        },
        "id": "ac4IXpQ8RhqN",
        "outputId": "c435fea0-7c38-430f-ff56-df87d5b7974b"
      },
      "execution_count": null,
      "outputs": [
        {
          "output_type": "stream",
          "name": "stdout",
          "text": [
            "Eliminacion de registros con 'precios' o 'cantidades vendidas' negativas\n",
            " Cantidad de registros a eliminar: 7357\n",
            " Porcentaje de registros a eliminar: 0.25%\n"
          ]
        }
      ]
    },
    {
      "cell_type": "code",
      "source": [
        "# Eliminar el outlier 'item_price = 307980'\n",
        "outlier_drop = list(train[train['item_price'] > 300000].index)\n",
        "train.drop(outlier_drop, inplace = True)"
      ],
      "metadata": {
        "id": "3XSpu_CQfWwQ"
      },
      "execution_count": null,
      "outputs": []
    },
    {
      "cell_type": "code",
      "source": [
        "# Validación de valores positivos y enteros\n",
        "invalids_val(train.shop_id.unique())\n",
        "invalids_val(train.item_id.unique())\n",
        "invalids_val(train.date_block_num.unique())"
      ],
      "metadata": {
        "colab": {
          "base_uri": "https://localhost:8080/"
        },
        "id": "uqa-ZTvBnSUU",
        "outputId": "130c5baa-b533-4d9a-9a7b-200483e457c3"
      },
      "execution_count": null,
      "outputs": [
        {
          "output_type": "stream",
          "name": "stdout",
          "text": [
            "OK, valores positivos y enteros\n",
            "OK, valores positivos y enteros\n",
            "OK, valores positivos y enteros\n"
          ]
        }
      ]
    },
    {
      "cell_type": "code",
      "source": [
        "# Validación shop_id, valor max 59\n",
        "train.shop_id.max()"
      ],
      "metadata": {
        "colab": {
          "base_uri": "https://localhost:8080/"
        },
        "id": "vqzYFtq8ZYuQ",
        "outputId": "6284de21-3c64-4516-99da-10fcf10b203d"
      },
      "execution_count": null,
      "outputs": [
        {
          "output_type": "execute_result",
          "data": {
            "text/plain": [
              "59"
            ]
          },
          "metadata": {},
          "execution_count": 33
        }
      ]
    },
    {
      "cell_type": "code",
      "source": [
        "# Validación item_id, valor max 22169\n",
        "train.item_id.max()"
      ],
      "metadata": {
        "colab": {
          "base_uri": "https://localhost:8080/"
        },
        "id": "6GWks4oYaV7j",
        "outputId": "0e8b8d75-b3b6-41aa-dc22-bb06f533c814"
      },
      "execution_count": null,
      "outputs": [
        {
          "output_type": "execute_result",
          "data": {
            "text/plain": [
              "22169"
            ]
          },
          "metadata": {},
          "execution_count": 34
        }
      ]
    },
    {
      "cell_type": "code",
      "source": [
        "# Columna 'date' a datatime\n",
        "train['date'] = pd.to_datetime(train['date'], format=\"%d.%m.%Y\")"
      ],
      "metadata": {
        "id": "sFYQw-GgnxIo"
      },
      "execution_count": null,
      "outputs": []
    },
    {
      "cell_type": "markdown",
      "source": [
        "### 3.5. EDA - \"*test*\""
      ],
      "metadata": {
        "id": "Uxw2VOuTGcsG"
      }
    },
    {
      "cell_type": "code",
      "source": [
        "test.info()"
      ],
      "metadata": {
        "colab": {
          "base_uri": "https://localhost:8080/"
        },
        "id": "HuOGJA3Z7iAW",
        "outputId": "cb1caa7c-251f-4f1b-e116-32a3dc76eeea"
      },
      "execution_count": null,
      "outputs": [
        {
          "output_type": "stream",
          "name": "stdout",
          "text": [
            "<class 'pandas.core.frame.DataFrame'>\n",
            "RangeIndex: 214200 entries, 0 to 214199\n",
            "Data columns (total 3 columns):\n",
            " #   Column   Non-Null Count   Dtype\n",
            "---  ------   --------------   -----\n",
            " 0   ID       214200 non-null  int64\n",
            " 1   shop_id  214200 non-null  int64\n",
            " 2   item_id  214200 non-null  int64\n",
            "dtypes: int64(3)\n",
            "memory usage: 4.9 MB\n"
          ]
        }
      ]
    },
    {
      "cell_type": "code",
      "source": [
        "test.ID.nunique()"
      ],
      "metadata": {
        "colab": {
          "base_uri": "https://localhost:8080/"
        },
        "id": "3volGS4VQScQ",
        "outputId": "2cad1ac3-9964-44b3-fccf-467f64b2d0db"
      },
      "execution_count": null,
      "outputs": [
        {
          "output_type": "execute_result",
          "data": {
            "text/plain": [
              "214200"
            ]
          },
          "metadata": {},
          "execution_count": 37
        }
      ]
    },
    {
      "cell_type": "code",
      "source": [
        "# Validación de valores positivos y enteros\n",
        "invalids_val(test.ID.unique())\n",
        "invalids_val(test.shop_id.unique())\n",
        "invalids_val(test.item_id.unique())"
      ],
      "metadata": {
        "colab": {
          "base_uri": "https://localhost:8080/"
        },
        "id": "DKIMxpH_7POw",
        "outputId": "04045b81-f77d-4a39-ec7b-b7f4958734ee"
      },
      "execution_count": null,
      "outputs": [
        {
          "output_type": "stream",
          "name": "stdout",
          "text": [
            "OK, valores positivos y enteros\n",
            "OK, valores positivos y enteros\n",
            "OK, valores positivos y enteros\n"
          ]
        }
      ]
    },
    {
      "cell_type": "code",
      "source": [
        "# Validación shop_id, valor max 59\n",
        "test.shop_id.max()"
      ],
      "metadata": {
        "colab": {
          "base_uri": "https://localhost:8080/"
        },
        "id": "8MVUqp9LazFX",
        "outputId": "f0d7fa94-3b62-4e10-e01c-bccbc1609407"
      },
      "execution_count": null,
      "outputs": [
        {
          "output_type": "execute_result",
          "data": {
            "text/plain": [
              "59"
            ]
          },
          "metadata": {},
          "execution_count": 39
        }
      ]
    },
    {
      "cell_type": "code",
      "source": [
        "# Validación item_id, valor max 22169\n",
        "train.item_id.max()"
      ],
      "metadata": {
        "colab": {
          "base_uri": "https://localhost:8080/"
        },
        "id": "emvuGiSza11f",
        "outputId": "1084ce81-c1ca-4a4d-e042-d01658a077d3"
      },
      "execution_count": null,
      "outputs": [
        {
          "output_type": "execute_result",
          "data": {
            "text/plain": [
              "22169"
            ]
          },
          "metadata": {},
          "execution_count": 40
        }
      ]
    },
    {
      "cell_type": "markdown",
      "source": [
        "### 3.6. Ventas por mes"
      ],
      "metadata": {
        "id": "AOp54iWwgo8v"
      }
    },
    {
      "cell_type": "code",
      "source": [
        "sales = {\n",
        "    'date' : train['date'].dt.to_period('M').dt.to_timestamp() ,\n",
        "    'item_cnt_month' : train['item_cnt_day']\n",
        "         }\n",
        "\n",
        "sales = pd.DataFrame(sales)\n",
        "sales = sales.groupby(['date']).agg({'item_cnt_month':'sum'})"
      ],
      "metadata": {
        "id": "--fC5zt87ZWa"
      },
      "execution_count": null,
      "outputs": []
    },
    {
      "cell_type": "code",
      "source": [
        "sns.set_style(\"whitegrid\")"
      ],
      "metadata": {
        "id": "8kexuhExm4zX"
      },
      "execution_count": null,
      "outputs": []
    },
    {
      "cell_type": "code",
      "source": [
        "# Gráfica de ventas\n",
        "plt.figure(figsize = (10,4))\n",
        "sns.lineplot(sales, legend = False)\n",
        "plt.title('Ventas por mes')\n",
        "plt.xlabel('dates')\n",
        "plt.ylabel('item_cnt_month')\n"
      ],
      "metadata": {
        "colab": {
          "base_uri": "https://localhost:8080/",
          "height": 427
        },
        "id": "SZS9LK7Zgy_s",
        "outputId": "a5c29168-5d8c-4818-8223-74f1a99a6028"
      },
      "execution_count": null,
      "outputs": [
        {
          "output_type": "execute_result",
          "data": {
            "text/plain": [
              "Text(0, 0.5, 'item_cnt_month')"
            ]
          },
          "metadata": {},
          "execution_count": 43
        },
        {
          "output_type": "display_data",
          "data": {
            "text/plain": [
              "<Figure size 1000x400 with 1 Axes>"
            ],
            "image/png": "[encoded data removed]"
          },
          "metadata": {}
        }
      ]
    },
    {
      "cell_type": "code",
      "source": [
        "# Histograma\n",
        "sns.histplot(data= sales, legend = False)\n",
        "plt.title('Histograma - Ventas por mes')\n",
        "plt.xlabel('item_cnt_month')"
      ],
      "metadata": {
        "colab": {
          "base_uri": "https://localhost:8080/",
          "height": 489
        },
        "id": "2SV2aNDugw6x",
        "outputId": "b3e6fe7c-c6c1-4a05-80dd-5473b124ee6a"
      },
      "execution_count": null,
      "outputs": [
        {
          "output_type": "execute_result",
          "data": {
            "text/plain": [
              "Text(0.5, 0, 'item_cnt_month')"
            ]
          },
          "metadata": {},
          "execution_count": 44
        },
        {
          "output_type": "display_data",
          "data": {
            "text/plain": [
              "<Figure size 640x480 with 1 Axes>"
            ],
            "image/png": "[encoded data removed]"
          },
          "metadata": {}
        }
      ]
    },
    {
      "cell_type": "markdown",
      "source": [
        "### 3.7. Recategorización de los artículos\n",
        "\n",
        "Con el fin de utilizar la categoria de los artículos como una variable para los modelos de predicción, a continuación se realiza el proceso de *recategorización* que consiste en traducir los nombres de las categorias de ruso a ingles y reagruparlas.\n",
        "\n",
        "La columna '*label* ' contedra los resultados."
      ],
      "metadata": {
        "id": "bQs2s7diFaHJ"
      }
    },
    {
      "cell_type": "code",
      "source": [
        "def english_traductor():\n",
        "  '''\n",
        "  Traductor de Ruso a Ingles.\n",
        "  Utilizado para las categorias\n",
        "\n",
        "  Return:\n",
        "      item_category + la columna ...\n",
        "      item_category['name_en'] : columna con las traducciones.\n",
        "  '''\n",
        "  # Nombres de las categorias en ruso\n",
        "  names_ru = list(item_category.item_category_name)\n",
        "\n",
        "  # Traductor de ruso a ingles\n",
        "  traductor = GoogleTranslator(source='ru', target='en')\n",
        "\n",
        "  # Nombre de las categorias en ingles\n",
        "  item_category['name_en'] = [traductor.translate(i) for i in names_ru]\n",
        "\n",
        "  return item_category\n",
        "\n",
        "item_category = english_traductor()"
      ],
      "metadata": {
        "id": "uSvYir_m9G5a"
      },
      "execution_count": null,
      "outputs": []
    },
    {
      "cell_type": "code",
      "source": [
        "# Visualización del índice y nombre de las categorias en ingles\n",
        "for i, c in item_category.name_en.items():\n",
        "  print(i, c)"
      ],
      "metadata": {
        "id": "2T3EbSwPWHCp",
        "colab": {
          "base_uri": "https://localhost:8080/"
        },
        "outputId": "b41e771a-924b-45e5-b865-c29b124ea5a1"
      },
      "execution_count": null,
      "outputs": [
        {
          "output_type": "stream",
          "name": "stdout",
          "text": [
            "0 PC - Headsets/Headphones\n",
            "1 Accessories - PS2\n",
            "2 Accessories - PS3\n",
            "3 Accessories - PS4\n",
            "4 Accessories - PSP\n",
            "5 Accessories - PSVita\n",
            "6 Accessories - XBOX 360\n",
            "7 Accessories - XBOX ONE\n",
            "8 Tickets (Digital)\n",
            "9 Delivery of goods\n",
            "10 Game consoles - PS2\n",
            "11 Game consoles - PS3\n",
            "12 Game consoles - PS4\n",
            "13 Game consoles - PSP\n",
            "14 Game consoles - PSVita\n",
            "15 Game consoles - XBOX 360\n",
            "16 Game Consoles - XBOX ONE\n",
            "17 Game Consoles - Others\n",
            "18 Games - PS2\n",
            "19 Games - PS3\n",
            "20 Games - PS4\n",
            "21 Games - PSP\n",
            "22 Games - PSVita\n",
            "23 Games - XBOX 360\n",
            "24 Games - XBOX ONE\n",
            "25 Games - Gaming Accessories\n",
            "26 Android Games - Digital\n",
            "27 MAC Games - Digital\n",
            "28 PC Games - Additional Editions\n",
            "29 PC Games - Collector's Editions\n",
            "30 PC Games - Standard Editions\n",
            "31 PC Games - Digital\n",
            "32 Payment cards (Movies, Music, Games)\n",
            "33 Payment cards - Live!\n",
            "34 Payment cards - Live! (Number)\n",
            "35 Payment cards - PSN\n",
            "36 Payment cards - Windows (Digital)\n",
            "37 Cinema - Blu-Ray\n",
            "38 Cinema - Blu-Ray 3D\n",
            "39 Cinema - Blu-Ray 4K\n",
            "40 Cinema - DVD\n",
            "41 Cinema - Collectible\n",
            "42 Books - Artbooks, encyclopedias\n",
            "43 Books - Audiobooks\n",
            "44 Books - Audiobooks (Digital)\n",
            "45 Books - Audiobooks 1C\n",
            "46 Books - Business literature\n",
            "47 Books - Comics, manga\n",
            "48 Books - Computer literature\n",
            "49 Books - Teaching materials 1C\n",
            "50 Books - Postcards\n",
            "51 Books - Educational literature\n",
            "52 Books - Guides\n",
            "53 Books - Fiction\n",
            "54 Books - Digital\n",
            "55 Music - locally produced CD\n",
            "56 Music - branded CD\n",
            "57 Music - MP3\n",
            "58 Music - Vinyl\n",
            "59 Music - Music Video\n",
            "60 Music - Gift editions\n",
            "61 Gifts - Attributes\n",
            "62 Gifts - Gadgets, robots, sports\n",
            "63 Gifts - Soft toys\n",
            "64 Gifts - Board Games\n",
            "65 Gifts - Board games (compact)\n",
            "66 Gifts - Postcards, stickers\n",
            "67 Gifts - Development\n",
            "68 Gifts - Certificates, services\n",
            "69 Gifts - Souvenirs\n",
            "70 Gifts - Souvenirs (in weight)\n",
            "71 Gifts - Bags, Albums, Mousepads\n",
            "72 Gifts - Figures\n",
            "73 Programs - 1C:Enterprise 8\n",
            "74 Programs - MAC (Digital)\n",
            "75 Programs - For home and office\n",
            "76 Programs - For home and office (Digital)\n",
            "77 Programs - Educational\n",
            "78 Programs - Educational (Digital)\n",
            "79 Service\n",
            "80 Service - Tickets\n",
            "81 Blank media (spire)\n",
            "82 Blank media (pieces)\n",
            "83 Batteries\n"
          ]
        }
      ]
    },
    {
      "cell_type": "code",
      "source": [
        "# Reagrupación de las categorias\n",
        "# Definir una consulta SQL\n",
        "consulta_sql = '''\n",
        "    SELECT\n",
        "        CASE\n",
        "            WHEN item_category_id  BETWEEN 1 AND 7 THEN 'Accessories'\n",
        "            WHEN item_category_id  BETWEEN 10 AND 17 THEN 'Consoles'\n",
        "            WHEN item_category_id  BETWEEN 18 AND 24 THEN 'Games Consoles'\n",
        "            WHEN item_category_id  BETWEEN 26 AND 27 THEN 'Phone Games'\n",
        "            WHEN item_category_id  BETWEEN 28 AND 31 THEN 'PC Games'\n",
        "            WHEN item_category_id  BETWEEN 32 AND 36 THEN 'Cards'\n",
        "            WHEN item_category_id  BETWEEN 37 AND 41 THEN 'Movies'\n",
        "            WHEN item_category_id  BETWEEN 42 AND 54 THEN 'Books'\n",
        "            WHEN item_category_id  BETWEEN 55 AND 60 THEN 'Music'\n",
        "            WHEN item_category_id  BETWEEN 61 AND 72 THEN 'Gifts'\n",
        "            WHEN item_category_id  BETWEEN 73 AND 78 THEN 'Softs'\n",
        "            WHEN item_category_id  BETWEEN 79 AND 80 THEN 'Services'\n",
        "            WHEN item_category_id  BETWEEN 81 AND 82 THEN 'Blank Media'\n",
        "            ELSE name_en\n",
        "        END AS label\n",
        "    FROM\n",
        "        item_category\n",
        "'''\n",
        "\n",
        "# Ejecutar la consulta SQL\n",
        "resultado = sqldf(consulta_sql)\n",
        "\n",
        "# Guardar resultados en la columna 'label'\n",
        "item_category['label'] = resultado"
      ],
      "metadata": {
        "id": "k7b590Ubn_d6"
      },
      "execution_count": null,
      "outputs": []
    },
    {
      "cell_type": "markdown",
      "source": [
        "### 3.8. Escalamiento MinMaxScaler de 'shop_id' e 'item_id'"
      ],
      "metadata": {
        "id": "9Tvpcc8XCSKP"
      }
    },
    {
      "cell_type": "code",
      "source": [
        "def scaler_minmax(data_col):\n",
        "  '''\n",
        "  Escalar valores desde 0 hasta 100.\n",
        "\n",
        "  Args:\n",
        "      data_col: columna a escalar.\n",
        "  Returns:\n",
        "      data_scaler (np.array): arreglo de valores escalados.\n",
        "  '''\n",
        "  # Inicializar MinMaxScaler\n",
        "  scaler = MinMaxScaler(feature_range=(0, 100))\n",
        "\n",
        "  data = np.array(data_col).reshape(-1,1)\n",
        "  data_scaler = scaler.fit_transform(data)\n",
        "\n",
        "  return data_scaler"
      ],
      "metadata": {
        "id": "UCYxAD32YBrk"
      },
      "execution_count": null,
      "outputs": []
    },
    {
      "cell_type": "markdown",
      "source": [
        "shops"
      ],
      "metadata": {
        "id": "2tweGxR8QDQf"
      }
    },
    {
      "cell_type": "code",
      "source": [
        "data_scaler = scaler_minmax(shops.shop_id)\n",
        "\n",
        "shops['shop_id_scal'] = data_scaler"
      ],
      "metadata": {
        "id": "Jpt6BN7sDBwc"
      },
      "execution_count": null,
      "outputs": []
    },
    {
      "cell_type": "markdown",
      "source": [
        "items"
      ],
      "metadata": {
        "id": "AyKKoOrgQFgP"
      }
    },
    {
      "cell_type": "code",
      "source": [
        "data_scaler = scaler_minmax(items.item_id)\n",
        "\n",
        "items['item_id_scal'] = data_scaler"
      ],
      "metadata": {
        "id": "AHLQxCA1P8g5"
      },
      "execution_count": null,
      "outputs": []
    },
    {
      "cell_type": "markdown",
      "source": [
        "### 3.9. Transformación \"*train*\" y \"*test*\""
      ],
      "metadata": {
        "id": "wU2JD4HAkG3P"
      }
    },
    {
      "cell_type": "markdown",
      "source": [
        "Se escalan **todos los datos numéricos de 0 a 100** mediante MinMaxScaler.\n",
        "Este procedimiento también se realizó con las variables ordinales de shop_id y item_id, para mejorar las predicciones en algunos modelos."
      ],
      "metadata": {
        "id": "vk0C5t73y1EF"
      }
    },
    {
      "cell_type": "markdown",
      "source": [
        "Con el fín de utilizar la recategorización para el modelo de predicción se realizarán dos codificaciones (Embeddings y Target/MeanEncoders) para evaluar cual puede ser la mejor."
      ],
      "metadata": {
        "id": "Yp8UTCFiylqK"
      }
    },
    {
      "cell_type": "code",
      "source": [
        "def add_scal_and_label_cols(df):\n",
        "  '''\n",
        "  Para ser utilizada en la función \"transform_train_test\" creada más abajo.\n",
        "  Adición de columnas 'shop_id_scal' , 'item_id_scal' y 'label'.\n",
        "\n",
        "  Args:\n",
        "      df: dataframes \"train\" y \"test\".\n",
        "  Returns:\n",
        "      df de entrada + las columnas ...\n",
        "      df['shop_id_scal'] : shop_id escalado.\n",
        "      df['item_id_scal'] : item_id escalado.\n",
        "      df['label'] : categorias que posteriormente serán codificadas.\n",
        "  '''\n",
        "  # Reemplazar los Ids por los Ids escalados\n",
        "  shops['shop_id']= shops.shop_id.astype('str')\n",
        "  items['item_id']= items.item_id.astype('str')\n",
        "\n",
        "  df['shop_id']= df.shop_id.astype('str')\n",
        "  df['item_id']= df.item_id.astype('str')\n",
        "\n",
        "  df = df.merge(shops[['shop_id' , 'shop_id_scal']], how=\"left\", on=\"shop_id\")\n",
        "  df = df.merge(items[['item_id' , 'item_category_id' , 'item_id_scal']], how=\"left\", on=\"item_id\")\n",
        "  df = df.merge(item_category[['item_category_id' , 'label']], how=\"left\", on=\"item_category_id\")\n",
        "\n",
        "  # Eliminar columnas innecesarias\n",
        "  df.drop(['shop_id', 'item_id', 'item_category_id'], axis=1, inplace=True)\n",
        "\n",
        "  return df"
      ],
      "metadata": {
        "id": "TeCYsnh2q264"
      },
      "execution_count": null,
      "outputs": []
    },
    {
      "cell_type": "code",
      "source": [
        "def encoder_category(df, df_aux):\n",
        "  '''\n",
        "  Para ser utilizada en la función \"transform_train_test\" creada más abajo.\n",
        "  Codificación de la columna 'label' utilizando dos alternativas (Target/MeanEncoder y Embedding).\n",
        "\n",
        "  Args:\n",
        "      df: dataframes \"train\" y \"test\".\n",
        "      df_aux: dataframe auxiliar, se crea en la función \"transform_train_test\" de manera automática.\n",
        "  Returns:\n",
        "      df de entrada + las columnas ...\n",
        "      df['label_mean_encoder'] : valores de la codificación Target/MeanEncoder.\n",
        "      df['label_embedding'] : valores de la codificación Embedding.\n",
        "  '''\n",
        "  # Lista de categorías\n",
        "  label_list = list(item_category['label'].unique())\n",
        "\n",
        "  # -------Embedding-------------------------------------\n",
        "  model = Word2Vec(sentences=[label_list], vector_size=30, window=5, min_count=1, workers=4)\n",
        "  # Diccionario con Embeddings\n",
        "  embeddings_dict = {label: model.wv[label_list] for label in label_list}\n",
        "  df.loc[:,'label_embedding'] = df['label'].map(embeddings_dict)\n",
        "  # Aplanar las matrices de embedding\n",
        "  df.loc[:,'label_embedding'] = df['label_embedding'].apply(np.ravel)\n",
        "\n",
        "\n",
        "  # -------Target/MeanEncoder----------------------------\n",
        "  target_encoder = ce.TargetEncoder(cols=['label'])\n",
        "  # Ajustar y transformar los datos\n",
        "  df_aux.loc[:,'label_mean_encoder'] = target_encoder.fit_transform(df_aux['label'], df_aux[33])\n",
        "  df['label_mean_encoder'] = target_encoder.transform(df['label'], df[33])\n",
        "\n",
        "  # Inicializar MinMaxScaler\n",
        "  scaler = MinMaxScaler(feature_range=(0, 100))\n",
        "  # Ajustar el escalador en el conjunto de entrenamiento\n",
        "  w2 = scaler.fit_transform(df_aux[['label_mean_encoder']])\n",
        "  # Transformar el conjunto\n",
        "  df['label_mean_encoder'] = scaler.transform(df[['label_mean_encoder']])\n",
        "\n",
        "  # Eliminar las columnas innecesarias\n",
        "  df.drop('label' , axis=1, inplace=True)\n",
        "  df_aux.drop('label_mean_encoder' , axis=1, inplace=True)\n",
        "\n",
        "  # ----------------------------------------------------\n",
        "  return df"
      ],
      "metadata": {
        "id": "rSZNMohQUkpb"
      },
      "execution_count": null,
      "outputs": []
    },
    {
      "cell_type": "code",
      "source": [
        "def transform_train_test():\n",
        "  '''\n",
        "  Se aplica a los set de datos \"train\" y \"test\".\n",
        "\n",
        "  La transformación consiste en:\n",
        "  1- Ventas mensuales donde, los meses ('date_block_num') se transforman en columnas,\n",
        "     las cantidades vendidas ('item_cnt_day') se transforman en los valores de esas columnas.\n",
        "  2- 'shop_id' y 'item_id' escalados, mediante la función \"add_scal_and_label_cols\".\n",
        "  3- Dos columnas correspondientes a las codificaciones Target/MeanEncoder y Embedding,\n",
        "     mediante la función \"encoder_category\".\n",
        "\n",
        "  Returns:\n",
        "      train_cleaned: dataframe \"train\" con 'shop_id' y 'item_id' escalados, codificaciones de 'label' y ventas mensuales.\n",
        "      test_pred: dataframe \"test\" con 'shop_id' y 'item_id' escalados, codificaciones de 'label' y ventas mensuales.\n",
        "  '''\n",
        "\n",
        "\n",
        "  # -------Transformación dataset \"train\"-------------------------------------\n",
        "  # Ventas mensuales\n",
        "  pivot_table = train.pivot_table(\n",
        "                                  values='item_cnt_day', # valores de las ventas.\n",
        "                                  index=['shop_id','item_id'], # ventas segmentadas por shop e item.\n",
        "                                  columns='date_block_num', # columnas de los meses (0 - 33).\n",
        "                                  aggfunc='sum',\n",
        "                                  fill_value=0\n",
        "                                  )\n",
        "\n",
        "  # Resetear índice\n",
        "  train_cleaned = pivot_table.reset_index()\n",
        "  # Elimina el nombre del índice\n",
        "  train_cleaned = train_cleaned.rename_axis(None, axis=1)\n",
        "\n",
        "  def MinMax_for_train(df):\n",
        "    '''\n",
        "    Escalamiento de las ventas mensuales. Desde 0 hasta 100.\n",
        "\n",
        "    Args:\n",
        "        df: set de datos \"train\".\n",
        "    Return:\n",
        "        df: set de datos \"train\" con las ventas mensuales escaladas.\n",
        "    '''\n",
        "\n",
        "    # Inicializar el MinMaxScaler\n",
        "    scaler  = MinMaxScaler(feature_range=(0, 100))\n",
        "    # Escalado de columnas desde 0 a 33\n",
        "    col_data = df.columns[df.columns.isin(list(range(34)))]\n",
        "    # Seleccionar solo las columnas para el escalado\n",
        "    data = df[col_data]\n",
        "    # Ajustar y transformar los datos\n",
        "    data_scaler = scaler.fit_transform(data)\n",
        "    # Reemplazar los valores\n",
        "    df[list(range(34))] = data_scaler\n",
        "\n",
        "    return df\n",
        "\n",
        "  # Escalamiento de ventas mensuales (\"MinMax_for_train\")\n",
        "  train_cleaned = MinMax_for_train(train_cleaned)\n",
        "\n",
        "  # Adición de columnas item_id y shop_id escaladas (\"item_id_scal y shop_id_scal\")\n",
        "  train_cleaned = add_scal_and_label_cols(train_cleaned)\n",
        "\n",
        "  # Codificaciones de la columna label (\"Target/MeanEncoding y Embedding\")\n",
        "  df_aux = train_cleaned[['label' , 33]].copy() # Dataframe auxiliar\n",
        "  train_cleaned = encoder_category(train_cleaned, df_aux)\n",
        "\n",
        "  # Seleccion de columnas, confección del dataframe final.\n",
        "  train_cleaned_columns = ['shop_id_scal', 'item_id_scal', 'label_mean_encoder' , 'label_embedding'] + list(range(34))\n",
        "  train_cleaned = train_cleaned[train_cleaned_columns]\n",
        "\n",
        "\n",
        "  # -------Transformación dataset \"test\"-------------------------------------\n",
        "  # Adición de columnas item_id y shop_id escaladas (\"item_id_scal y shop_id_scal\")\n",
        "  test_pred = add_scal_and_label_cols(test)\n",
        "\n",
        "  # Adición de las columnas de las ventas mensuales\n",
        "  test_pred = test_pred.merge(train_cleaned[['shop_id_scal', 'item_id_scal'] + list(range(34))],\n",
        "                                how = \"left\" , on = ['shop_id_scal' , 'item_id_scal']\n",
        "                               ).fillna(0)\n",
        "\n",
        "  # Codificaciones de la columna label (\"Target/MeanEncoding y Embedding\")\n",
        "  test_pred = encoder_category(test_pred, df_aux)\n",
        "\n",
        "  # Selección de columnas, confección del dataframe final.\n",
        "  col_data = test_pred[['ID', 'shop_id_scal', 'item_id_scal', 'label_mean_encoder', 'label_embedding'] +  list(range(34))]\n",
        "  col = dict(zip(col_data.columns[5:],list( np.array(list(range(34))) - 1)))\n",
        "  test_pred  =  pd.concat([col_data.rename(col, axis = 1)], axis=1)\n",
        "\n",
        "\n",
        "  # --------------------------------------------------------------------\n",
        "  return train_cleaned, test_pred"
      ],
      "metadata": {
        "id": "N0U6VMtitLWv"
      },
      "execution_count": null,
      "outputs": []
    },
    {
      "cell_type": "code",
      "source": [
        "train_cleaned, test_pred = transform_train_test()"
      ],
      "metadata": {
        "id": "7Oa9GSICfyN7"
      },
      "execution_count": null,
      "outputs": []
    },
    {
      "cell_type": "code",
      "source": [
        "# Set de entrenamiento\n",
        "train_cleaned.tail()"
      ],
      "metadata": {
        "colab": {
          "base_uri": "https://localhost:8080/",
          "height": 516
        },
        "id": "2hYnJxyMvA4c",
        "outputId": "ba352b4d-a267-46ad-9d25-ff9ff782b649"
      },
      "execution_count": null,
      "outputs": [
        {
          "output_type": "execute_result",
          "data": {
            "text/plain": [
              "        shop_id_scal  item_id_scal  label_mean_encoder  \\\n",
              "424092         100.0     99.932338            0.113660   \n",
              "424093         100.0     99.936849            0.113660   \n",
              "424094         100.0     99.968424            0.113660   \n",
              "424095         100.0     99.977446            0.113660   \n",
              "424096         100.0     99.990978            0.648917   \n",
              "\n",
              "                                          label_embedding         0    1    2  \\\n",
              "424092  [-0.016664708, -0.0076228143, -0.024167625, -0...  0.591716  0.0  0.0   \n",
              "424093  [-0.016664708, -0.0076228143, -0.024167625, -0...  0.000000  0.0  0.0   \n",
              "424094  [-0.016664708, -0.0076228143, -0.024167625, -0...  0.000000  0.0  0.0   \n",
              "424095  [-0.016664708, -0.0076228143, -0.024167625, -0...  0.000000  0.0  0.0   \n",
              "424096  [-0.016664708, -0.0076228143, -0.024167625, -0...  0.000000  0.0  0.0   \n",
              "\n",
              "          3    4    5  ...   24        25        26        27        28   29  \\\n",
              "424092  0.0  0.0  0.0  ...  0.0  0.000000  0.000000  0.000000  0.000000  0.0   \n",
              "424093  0.0  0.0  0.0  ...  0.0  0.000000  0.000000  0.000000  0.000000  0.0   \n",
              "424094  0.0  0.0  0.0  ...  0.0  3.000000  1.374570  0.080515  0.134771  0.0   \n",
              "424095  0.0  0.0  0.0  ...  0.0  0.666667  0.343643  0.161031  0.000000  0.0   \n",
              "424096  0.0  0.0  0.0  ...  0.0  0.000000  0.000000  0.000000  0.000000  0.0   \n",
              "\n",
              "              30        31   32   33  \n",
              "424092  0.000000  0.000000  0.0  0.0  \n",
              "424093  0.000000  0.000000  0.0  0.0  \n",
              "424094  0.000000  0.229358  0.0  0.0  \n",
              "424095  0.207469  0.000000  0.0  0.0  \n",
              "424096  0.000000  0.000000  0.0  0.0  \n",
              "\n",
              "[5 rows x 38 columns]"
            ],
            "text/html": [
              "\n",
              "  <div id=\"df-de1e3b15-727c-45ec-a911-19927208ee93\" class=\"colab-df-container\">\n",
              "    <div>\n",
              "<style scoped>\n",
              "    .dataframe tbody tr th:only-of-type {\n",
              "        vertical-align: middle;\n",
              "    }\n",
              "\n",
              "    .dataframe tbody tr th {\n",
              "        vertical-align: top;\n",
              "    }\n",
              "\n",
              "    .dataframe thead th {\n",
              "        text-align: right;\n",
              "    }\n",
              "</style>\n",
              "<table border=\"1\" class=\"dataframe\">\n",
              "  <thead>\n",
              "    <tr style=\"text-align: right;\">\n",
              "      <th></th>\n",
              "      <th>shop_id_scal</th>\n",
              "      <th>item_id_scal</th>\n",
              "      <th>label_mean_encoder</th>\n",
              "      <th>label_embedding</th>\n",
              "      <th>0</th>\n",
              "      <th>1</th>\n",
              "      <th>2</th>\n",
              "      <th>3</th>\n",
              "      <th>4</th>\n",
              "      <th>5</th>\n",
              "      <th>...</th>\n",
              "      <th>24</th>\n",
              "      <th>25</th>\n",
              "      <th>26</th>\n",
              "      <th>27</th>\n",
              "      <th>28</th>\n",
              "      <th>29</th>\n",
              "      <th>30</th>\n",
              "      <th>31</th>\n",
              "      <th>32</th>\n",
              "      <th>33</th>\n",
              "    </tr>\n",
              "  </thead>\n",
              "  <tbody>\n",
              "    <tr>\n",
              "      <th>424092</th>\n",
              "      <td>100.0</td>\n",
              "      <td>99.932338</td>\n",
              "      <td>0.113660</td>\n",
              "      <td>[-0.016664708, -0.0076228143, -0.024167625, -0...</td>\n",
              "      <td>0.591716</td>\n",
              "      <td>0.0</td>\n",
              "      <td>0.0</td>\n",
              "      <td>0.0</td>\n",
              "      <td>0.0</td>\n",
              "      <td>0.0</td>\n",
              "      <td>...</td>\n",
              "      <td>0.0</td>\n",
              "      <td>0.000000</td>\n",
              "      <td>0.000000</td>\n",
              "      <td>0.000000</td>\n",
              "      <td>0.000000</td>\n",
              "      <td>0.0</td>\n",
              "      <td>0.000000</td>\n",
              "      <td>0.000000</td>\n",
              "      <td>0.0</td>\n",
              "      <td>0.0</td>\n",
              "    </tr>\n",
              "    <tr>\n",
              "      <th>424093</th>\n",
              "      <td>100.0</td>\n",
              "      <td>99.936849</td>\n",
              "      <td>0.113660</td>\n",
              "      <td>[-0.016664708, -0.0076228143, -0.024167625, -0...</td>\n",
              "      <td>0.000000</td>\n",
              "      <td>0.0</td>\n",
              "      <td>0.0</td>\n",
              "      <td>0.0</td>\n",
              "      <td>0.0</td>\n",
              "      <td>0.0</td>\n",
              "      <td>...</td>\n",
              "      <td>0.0</td>\n",
              "      <td>0.000000</td>\n",
              "      <td>0.000000</td>\n",
              "      <td>0.000000</td>\n",
              "      <td>0.000000</td>\n",
              "      <td>0.0</td>\n",
              "      <td>0.000000</td>\n",
              "      <td>0.000000</td>\n",
              "      <td>0.0</td>\n",
              "      <td>0.0</td>\n",
              "    </tr>\n",
              "    <tr>\n",
              "      <th>424094</th>\n",
              "      <td>100.0</td>\n",
              "      <td>99.968424</td>\n",
              "      <td>0.113660</td>\n",
              "      <td>[-0.016664708, -0.0076228143, -0.024167625, -0...</td>\n",
              "      <td>0.000000</td>\n",
              "      <td>0.0</td>\n",
              "      <td>0.0</td>\n",
              "      <td>0.0</td>\n",
              "      <td>0.0</td>\n",
              "      <td>0.0</td>\n",
              "      <td>...</td>\n",
              "      <td>0.0</td>\n",
              "      <td>3.000000</td>\n",
              "      <td>1.374570</td>\n",
              "      <td>0.080515</td>\n",
              "      <td>0.134771</td>\n",
              "      <td>0.0</td>\n",
              "      <td>0.000000</td>\n",
              "      <td>0.229358</td>\n",
              "      <td>0.0</td>\n",
              "      <td>0.0</td>\n",
              "    </tr>\n",
              "    <tr>\n",
              "      <th>424095</th>\n",
              "      <td>100.0</td>\n",
              "      <td>99.977446</td>\n",
              "      <td>0.113660</td>\n",
              "      <td>[-0.016664708, -0.0076228143, -0.024167625, -0...</td>\n",
              "      <td>0.000000</td>\n",
              "      <td>0.0</td>\n",
              "      <td>0.0</td>\n",
              "      <td>0.0</td>\n",
              "      <td>0.0</td>\n",
              "      <td>0.0</td>\n",
              "      <td>...</td>\n",
              "      <td>0.0</td>\n",
              "      <td>0.666667</td>\n",
              "      <td>0.343643</td>\n",
              "      <td>0.161031</td>\n",
              "      <td>0.000000</td>\n",
              "      <td>0.0</td>\n",
              "      <td>0.207469</td>\n",
              "      <td>0.000000</td>\n",
              "      <td>0.0</td>\n",
              "      <td>0.0</td>\n",
              "    </tr>\n",
              "    <tr>\n",
              "      <th>424096</th>\n",
              "      <td>100.0</td>\n",
              "      <td>99.990978</td>\n",
              "      <td>0.648917</td>\n",
              "      <td>[-0.016664708, -0.0076228143, -0.024167625, -0...</td>\n",
              "      <td>0.000000</td>\n",
              "      <td>0.0</td>\n",
              "      <td>0.0</td>\n",
              "      <td>0.0</td>\n",
              "      <td>0.0</td>\n",
              "      <td>0.0</td>\n",
              "      <td>...</td>\n",
              "      <td>0.0</td>\n",
              "      <td>0.000000</td>\n",
              "      <td>0.000000</td>\n",
              "      <td>0.000000</td>\n",
              "      <td>0.000000</td>\n",
              "      <td>0.0</td>\n",
              "      <td>0.000000</td>\n",
              "      <td>0.000000</td>\n",
              "      <td>0.0</td>\n",
              "      <td>0.0</td>\n",
              "    </tr>\n",
              "  </tbody>\n",
              "</table>\n",
              "<p>5 rows × 38 columns</p>\n",
              "</div>\n",
              "    <div class=\"colab-df-buttons\">\n",
              "\n",
              "  <div class=\"colab-df-container\">\n",
              "    <button class=\"colab-df-convert\" onclick=\"convertToInteractive('df-de1e3b15-727c-45ec-a911-19927208ee93')\"\n",
              "            title=\"Convert this dataframe to an interactive table.\"\n",
              "            style=\"display:none;\">\n",
              "\n",
              "  <svg xmlns=\"http://www.w3.org/2000/svg\" height=\"24px\" viewBox=\"0 -960 960 960\">\n",
              "    <path d=\"M120-120v-720h720v720H120Zm60-500h600v-160H180v160Zm220 220h160v-160H400v160Zm0 220h160v-160H400v160ZM180-400h160v-160H180v160Zm440 0h160v-160H620v160ZM180-180h160v-160H180v160Zm440 0h160v-160H620v160Z\"/>\n",
              "  </svg>\n",
              "    </button>\n",
              "\n",
              "  <style>\n",
              "    .colab-df-container {\n",
              "      display:flex;\n",
              "      gap: 12px;\n",
              "    }\n",
              "\n",
              "    .colab-df-convert {\n",
              "      background-color: #E8F0FE;\n",
              "      border: none;\n",
              "      border-radius: 50%;\n",
              "      cursor: pointer;\n",
              "      display: none;\n",
              "      fill: #1967D2;\n",
              "      height: 32px;\n",
              "      padding: 0 0 0 0;\n",
              "      width: 32px;\n",
              "    }\n",
              "\n",
              "    .colab-df-convert:hover {\n",
              "      background-color: #E2EBFA;\n",
              "      box-shadow: 0px 1px 2px rgba(60, 64, 67, 0.3), 0px 1px 3px 1px rgba(60, 64, 67, 0.15);\n",
              "      fill: #174EA6;\n",
              "    }\n",
              "\n",
              "    .colab-df-buttons div {\n",
              "      margin-bottom: 4px;\n",
              "    }\n",
              "\n",
              "    [theme=dark] .colab-df-convert {\n",
              "      background-color: #3B4455;\n",
              "      fill: #D2E3FC;\n",
              "    }\n",
              "\n",
              "    [theme=dark] .colab-df-convert:hover {\n",
              "      background-color: #434B5C;\n",
              "      box-shadow: 0px 1px 3px 1px rgba(0, 0, 0, 0.15);\n",
              "      filter: drop-shadow(0px 1px 2px rgba(0, 0, 0, 0.3));\n",
              "      fill: #FFFFFF;\n",
              "    }\n",
              "  </style>\n",
              "\n",
              "    <script>\n",
              "      const buttonEl =\n",
              "        document.querySelector('#df-de1e3b15-727c-45ec-a911-19927208ee93 button.colab-df-convert');\n",
              "      buttonEl.style.display =\n",
              "        google.colab.kernel.accessAllowed ? 'block' : 'none';\n",
              "\n",
              "      async function convertToInteractive(key) {\n",
              "        const element = document.querySelector('#df-de1e3b15-727c-45ec-a911-19927208ee93');\n",
              "        const dataTable =\n",
              "          await google.colab.kernel.invokeFunction('convertToInteractive',\n",
              "                                                    [key], {});\n",
              "        if (!dataTable) return;\n",
              "\n",
              "        const docLinkHtml = 'Like what you see? Visit the ' +\n",
              "          '<a target=\"_blank\" href=https://colab.research.google.com/notebooks/data_table.ipynb>data table notebook</a>'\n",
              "          + ' to learn more about interactive tables.';\n",
              "        element.innerHTML = '';\n",
              "        dataTable['output_type'] = 'display_data';\n",
              "        await google.colab.output.renderOutput(dataTable, element);\n",
              "        const docLink = document.createElement('div');\n",
              "        docLink.innerHTML = docLinkHtml;\n",
              "        element.appendChild(docLink);\n",
              "      }\n",
              "    </script>\n",
              "  </div>\n",
              "\n",
              "\n",
              "<div id=\"df-4b8c1170-d20b-443b-82d1-6804bda3f952\">\n",
              "  <button class=\"colab-df-quickchart\" onclick=\"quickchart('df-4b8c1170-d20b-443b-82d1-6804bda3f952')\"\n",
              "            title=\"Suggest charts\"\n",
              "            style=\"display:none;\">\n",
              "\n",
              "<svg xmlns=\"http://www.w3.org/2000/svg\" height=\"24px\"viewBox=\"0 0 24 24\"\n",
              "     width=\"24px\">\n",
              "    <g>\n",
              "        <path d=\"M19 3H5c-1.1 0-2 .9-2 2v14c0 1.1.9 2 2 2h14c1.1 0 2-.9 2-2V5c0-1.1-.9-2-2-2zM9 17H7v-7h2v7zm4 0h-2V7h2v10zm4 0h-2v-4h2v4z\"/>\n",
              "    </g>\n",
              "</svg>\n",
              "  </button>\n",
              "\n",
              "<style>\n",
              "  .colab-df-quickchart {\n",
              "      --bg-color: #E8F0FE;\n",
              "      --fill-color: #1967D2;\n",
              "      --hover-bg-color: #E2EBFA;\n",
              "      --hover-fill-color: #174EA6;\n",
              "      --disabled-fill-color: #AAA;\n",
              "      --disabled-bg-color: #DDD;\n",
              "  }\n",
              "\n",
              "  [theme=dark] .colab-df-quickchart {\n",
              "      --bg-color: #3B4455;\n",
              "      --fill-color: #D2E3FC;\n",
              "      --hover-bg-color: #434B5C;\n",
              "      --hover-fill-color: #FFFFFF;\n",
              "      --disabled-bg-color: #3B4455;\n",
              "      --disabled-fill-color: #666;\n",
              "  }\n",
              "\n",
              "  .colab-df-quickchart {\n",
              "    background-color: var(--bg-color);\n",
              "    border: none;\n",
              "    border-radius: 50%;\n",
              "    cursor: pointer;\n",
              "    display: none;\n",
              "    fill: var(--fill-color);\n",
              "    height: 32px;\n",
              "    padding: 0;\n",
              "    width: 32px;\n",
              "  }\n",
              "\n",
              "  .colab-df-quickchart:hover {\n",
              "    background-color: var(--hover-bg-color);\n",
              "    box-shadow: 0 1px 2px rgba(60, 64, 67, 0.3), 0 1px 3px 1px rgba(60, 64, 67, 0.15);\n",
              "    fill: var(--button-hover-fill-color);\n",
              "  }\n",
              "\n",
              "  .colab-df-quickchart-complete:disabled,\n",
              "  .colab-df-quickchart-complete:disabled:hover {\n",
              "    background-color: var(--disabled-bg-color);\n",
              "    fill: var(--disabled-fill-color);\n",
              "    box-shadow: none;\n",
              "  }\n",
              "\n",
              "  .colab-df-spinner {\n",
              "    border: 2px solid var(--fill-color);\n",
              "    border-color: transparent;\n",
              "    border-bottom-color: var(--fill-color);\n",
              "    animation:\n",
              "      spin 1s steps(1) infinite;\n",
              "  }\n",
              "\n",
              "  @keyframes spin {\n",
              "    0% {\n",
              "      border-color: transparent;\n",
              "      border-bottom-color: var(--fill-color);\n",
              "      border-left-color: var(--fill-color);\n",
              "    }\n",
              "    20% {\n",
              "      border-color: transparent;\n",
              "      border-left-color: var(--fill-color);\n",
              "      border-top-color: var(--fill-color);\n",
              "    }\n",
              "    30% {\n",
              "      border-color: transparent;\n",
              "      border-left-color: var(--fill-color);\n",
              "      border-top-color: var(--fill-color);\n",
              "      border-right-color: var(--fill-color);\n",
              "    }\n",
              "    40% {\n",
              "      border-color: transparent;\n",
              "      border-right-color: var(--fill-color);\n",
              "      border-top-color: var(--fill-color);\n",
              "    }\n",
              "    60% {\n",
              "      border-color: transparent;\n",
              "      border-right-color: var(--fill-color);\n",
              "    }\n",
              "    80% {\n",
              "      border-color: transparent;\n",
              "      border-right-color: var(--fill-color);\n",
              "      border-bottom-color: var(--fill-color);\n",
              "    }\n",
              "    90% {\n",
              "      border-color: transparent;\n",
              "      border-bottom-color: var(--fill-color);\n",
              "    }\n",
              "  }\n",
              "</style>\n",
              "\n",
              "  <script>\n",
              "    async function quickchart(key) {\n",
              "      const quickchartButtonEl =\n",
              "        document.querySelector('#' + key + ' button');\n",
              "      quickchartButtonEl.disabled = true;  // To prevent multiple clicks.\n",
              "      quickchartButtonEl.classList.add('colab-df-spinner');\n",
              "      try {\n",
              "        const charts = await google.colab.kernel.invokeFunction(\n",
              "            'suggestCharts', [key], {});\n",
              "      } catch (error) {\n",
              "        console.error('Error during call to suggestCharts:', error);\n",
              "      }\n",
              "      quickchartButtonEl.classList.remove('colab-df-spinner');\n",
              "      quickchartButtonEl.classList.add('colab-df-quickchart-complete');\n",
              "    }\n",
              "    (() => {\n",
              "      let quickchartButtonEl =\n",
              "        document.querySelector('#df-4b8c1170-d20b-443b-82d1-6804bda3f952 button');\n",
              "      quickchartButtonEl.style.display =\n",
              "        google.colab.kernel.accessAllowed ? 'block' : 'none';\n",
              "    })();\n",
              "  </script>\n",
              "</div>\n",
              "\n",
              "    </div>\n",
              "  </div>\n"
            ],
            "application/vnd.google.colaboratory.intrinsic+json": {
              "type": "dataframe"
            }
          },
          "metadata": {},
          "execution_count": 57
        }
      ]
    },
    {
      "cell_type": "code",
      "source": [
        "# Set de prueba\n",
        "test_pred.tail()"
      ],
      "metadata": {
        "colab": {
          "base_uri": "https://localhost:8080/",
          "height": 516
        },
        "id": "v053h2rFgO51",
        "outputId": "6c91a876-707b-4a00-8b1d-71715c08782c"
      },
      "execution_count": null,
      "outputs": [
        {
          "output_type": "execute_result",
          "data": {
            "text/plain": [
              "            ID  shop_id_scal  item_id_scal  label_mean_encoder  \\\n",
              "214195  214195     76.271186     83.242365            0.133227   \n",
              "214196  214196     76.271186     73.020885            0.462647   \n",
              "214197  214197     76.271186     71.076729            0.133227   \n",
              "214198  214198     76.271186     88.628265            0.113660   \n",
              "214199  214199     76.271186      4.370968            0.113660   \n",
              "\n",
              "                                          label_embedding        -1    0    1  \\\n",
              "214195  [-0.016664708, -0.0076228143, -0.024167625, -0...  0.000000  0.0  0.0   \n",
              "214196  [-0.016664708, -0.0076228143, -0.024167625, -0...  0.000000  0.0  0.0   \n",
              "214197  [-0.016664708, -0.0076228143, -0.024167625, -0...  0.591716  0.0  0.0   \n",
              "214198  [-0.016664708, -0.0076228143, -0.024167625, -0...  0.000000  0.0  0.0   \n",
              "214199  [-0.016664708, -0.0076228143, -0.024167625, -0...  0.000000  0.0  0.0   \n",
              "\n",
              "          2    3  ...        23        24        25   26   27   28   29   30  \\\n",
              "214195  0.0  0.0  ...  0.177462  0.333333  0.343643  0.0  0.0  0.0  0.0  0.0   \n",
              "214196  0.0  0.0  ...  0.000000  0.000000  0.000000  0.0  0.0  0.0  0.0  0.0   \n",
              "214197  0.0  0.0  ...  0.088731  0.333333  0.000000  0.0  0.0  0.0  0.0  0.0   \n",
              "214198  0.0  0.0  ...  0.000000  0.000000  0.000000  0.0  0.0  0.0  0.0  0.0   \n",
              "214199  0.0  0.0  ...  0.000000  0.000000  0.000000  0.0  0.0  0.0  0.0  0.0   \n",
              "\n",
              "         31        32  \n",
              "214195  0.0  0.044385  \n",
              "214196  0.0  0.000000  \n",
              "214197  0.0  0.000000  \n",
              "214198  0.0  0.000000  \n",
              "214199  0.0  0.000000  \n",
              "\n",
              "[5 rows x 39 columns]"
            ],
            "text/html": [
              "\n",
              "  <div id=\"df-f0ce60cb-77d5-4d30-abb7-cdef459a24ed\" class=\"colab-df-container\">\n",
              "    <div>\n",
              "<style scoped>\n",
              "    .dataframe tbody tr th:only-of-type {\n",
              "        vertical-align: middle;\n",
              "    }\n",
              "\n",
              "    .dataframe tbody tr th {\n",
              "        vertical-align: top;\n",
              "    }\n",
              "\n",
              "    .dataframe thead th {\n",
              "        text-align: right;\n",
              "    }\n",
              "</style>\n",
              "<table border=\"1\" class=\"dataframe\">\n",
              "  <thead>\n",
              "    <tr style=\"text-align: right;\">\n",
              "      <th></th>\n",
              "      <th>ID</th>\n",
              "      <th>shop_id_scal</th>\n",
              "      <th>item_id_scal</th>\n",
              "      <th>label_mean_encoder</th>\n",
              "      <th>label_embedding</th>\n",
              "      <th>-1</th>\n",
              "      <th>0</th>\n",
              "      <th>1</th>\n",
              "      <th>2</th>\n",
              "      <th>3</th>\n",
              "      <th>...</th>\n",
              "      <th>23</th>\n",
              "      <th>24</th>\n",
              "      <th>25</th>\n",
              "      <th>26</th>\n",
              "      <th>27</th>\n",
              "      <th>28</th>\n",
              "      <th>29</th>\n",
              "      <th>30</th>\n",
              "      <th>31</th>\n",
              "      <th>32</th>\n",
              "    </tr>\n",
              "  </thead>\n",
              "  <tbody>\n",
              "    <tr>\n",
              "      <th>214195</th>\n",
              "      <td>214195</td>\n",
              "      <td>76.271186</td>\n",
              "      <td>83.242365</td>\n",
              "      <td>0.133227</td>\n",
              "      <td>[-0.016664708, -0.0076228143, -0.024167625, -0...</td>\n",
              "      <td>0.000000</td>\n",
              "      <td>0.0</td>\n",
              "      <td>0.0</td>\n",
              "      <td>0.0</td>\n",
              "      <td>0.0</td>\n",
              "      <td>...</td>\n",
              "      <td>0.177462</td>\n",
              "      <td>0.333333</td>\n",
              "      <td>0.343643</td>\n",
              "      <td>0.0</td>\n",
              "      <td>0.0</td>\n",
              "      <td>0.0</td>\n",
              "      <td>0.0</td>\n",
              "      <td>0.0</td>\n",
              "      <td>0.0</td>\n",
              "      <td>0.044385</td>\n",
              "    </tr>\n",
              "    <tr>\n",
              "      <th>214196</th>\n",
              "      <td>214196</td>\n",
              "      <td>76.271186</td>\n",
              "      <td>73.020885</td>\n",
              "      <td>0.462647</td>\n",
              "      <td>[-0.016664708, -0.0076228143, -0.024167625, -0...</td>\n",
              "      <td>0.000000</td>\n",
              "      <td>0.0</td>\n",
              "      <td>0.0</td>\n",
              "      <td>0.0</td>\n",
              "      <td>0.0</td>\n",
              "      <td>...</td>\n",
              "      <td>0.000000</td>\n",
              "      <td>0.000000</td>\n",
              "      <td>0.000000</td>\n",
              "      <td>0.0</td>\n",
              "      <td>0.0</td>\n",
              "      <td>0.0</td>\n",
              "      <td>0.0</td>\n",
              "      <td>0.0</td>\n",
              "      <td>0.0</td>\n",
              "      <td>0.000000</td>\n",
              "    </tr>\n",
              "    <tr>\n",
              "      <th>214197</th>\n",
              "      <td>214197</td>\n",
              "      <td>76.271186</td>\n",
              "      <td>71.076729</td>\n",
              "      <td>0.133227</td>\n",
              "      <td>[-0.016664708, -0.0076228143, -0.024167625, -0...</td>\n",
              "      <td>0.591716</td>\n",
              "      <td>0.0</td>\n",
              "      <td>0.0</td>\n",
              "      <td>0.0</td>\n",
              "      <td>0.0</td>\n",
              "      <td>...</td>\n",
              "      <td>0.088731</td>\n",
              "      <td>0.333333</td>\n",
              "      <td>0.000000</td>\n",
              "      <td>0.0</td>\n",
              "      <td>0.0</td>\n",
              "      <td>0.0</td>\n",
              "      <td>0.0</td>\n",
              "      <td>0.0</td>\n",
              "      <td>0.0</td>\n",
              "      <td>0.000000</td>\n",
              "    </tr>\n",
              "    <tr>\n",
              "      <th>214198</th>\n",
              "      <td>214198</td>\n",
              "      <td>76.271186</td>\n",
              "      <td>88.628265</td>\n",
              "      <td>0.113660</td>\n",
              "      <td>[-0.016664708, -0.0076228143, -0.024167625, -0...</td>\n",
              "      <td>0.000000</td>\n",
              "      <td>0.0</td>\n",
              "      <td>0.0</td>\n",
              "      <td>0.0</td>\n",
              "      <td>0.0</td>\n",
              "      <td>...</td>\n",
              "      <td>0.000000</td>\n",
              "      <td>0.000000</td>\n",
              "      <td>0.000000</td>\n",
              "      <td>0.0</td>\n",
              "      <td>0.0</td>\n",
              "      <td>0.0</td>\n",
              "      <td>0.0</td>\n",
              "      <td>0.0</td>\n",
              "      <td>0.0</td>\n",
              "      <td>0.000000</td>\n",
              "    </tr>\n",
              "    <tr>\n",
              "      <th>214199</th>\n",
              "      <td>214199</td>\n",
              "      <td>76.271186</td>\n",
              "      <td>4.370968</td>\n",
              "      <td>0.113660</td>\n",
              "      <td>[-0.016664708, -0.0076228143, -0.024167625, -0...</td>\n",
              "      <td>0.000000</td>\n",
              "      <td>0.0</td>\n",
              "      <td>0.0</td>\n",
              "      <td>0.0</td>\n",
              "      <td>0.0</td>\n",
              "      <td>...</td>\n",
              "      <td>0.000000</td>\n",
              "      <td>0.000000</td>\n",
              "      <td>0.000000</td>\n",
              "      <td>0.0</td>\n",
              "      <td>0.0</td>\n",
              "      <td>0.0</td>\n",
              "      <td>0.0</td>\n",
              "      <td>0.0</td>\n",
              "      <td>0.0</td>\n",
              "      <td>0.000000</td>\n",
              "    </tr>\n",
              "  </tbody>\n",
              "</table>\n",
              "<p>5 rows × 39 columns</p>\n",
              "</div>\n",
              "    <div class=\"colab-df-buttons\">\n",
              "\n",
              "  <div class=\"colab-df-container\">\n",
              "    <button class=\"colab-df-convert\" onclick=\"convertToInteractive('df-f0ce60cb-77d5-4d30-abb7-cdef459a24ed')\"\n",
              "            title=\"Convert this dataframe to an interactive table.\"\n",
              "            style=\"display:none;\">\n",
              "\n",
              "  <svg xmlns=\"http://www.w3.org/2000/svg\" height=\"24px\" viewBox=\"0 -960 960 960\">\n",
              "    <path d=\"M120-120v-720h720v720H120Zm60-500h600v-160H180v160Zm220 220h160v-160H400v160Zm0 220h160v-160H400v160ZM180-400h160v-160H180v160Zm440 0h160v-160H620v160ZM180-180h160v-160H180v160Zm440 0h160v-160H620v160Z\"/>\n",
              "  </svg>\n",
              "    </button>\n",
              "\n",
              "  <style>\n",
              "    .colab-df-container {\n",
              "      display:flex;\n",
              "      gap: 12px;\n",
              "    }\n",
              "\n",
              "    .colab-df-convert {\n",
              "      background-color: #E8F0FE;\n",
              "      border: none;\n",
              "      border-radius: 50%;\n",
              "      cursor: pointer;\n",
              "      display: none;\n",
              "      fill: #1967D2;\n",
              "      height: 32px;\n",
              "      padding: 0 0 0 0;\n",
              "      width: 32px;\n",
              "    }\n",
              "\n",
              "    .colab-df-convert:hover {\n",
              "      background-color: #E2EBFA;\n",
              "      box-shadow: 0px 1px 2px rgba(60, 64, 67, 0.3), 0px 1px 3px 1px rgba(60, 64, 67, 0.15);\n",
              "      fill: #174EA6;\n",
              "    }\n",
              "\n",
              "    .colab-df-buttons div {\n",
              "      margin-bottom: 4px;\n",
              "    }\n",
              "\n",
              "    [theme=dark] .colab-df-convert {\n",
              "      background-color: #3B4455;\n",
              "      fill: #D2E3FC;\n",
              "    }\n",
              "\n",
              "    [theme=dark] .colab-df-convert:hover {\n",
              "      background-color: #434B5C;\n",
              "      box-shadow: 0px 1px 3px 1px rgba(0, 0, 0, 0.15);\n",
              "      filter: drop-shadow(0px 1px 2px rgba(0, 0, 0, 0.3));\n",
              "      fill: #FFFFFF;\n",
              "    }\n",
              "  </style>\n",
              "\n",
              "    <script>\n",
              "      const buttonEl =\n",
              "        document.querySelector('#df-f0ce60cb-77d5-4d30-abb7-cdef459a24ed button.colab-df-convert');\n",
              "      buttonEl.style.display =\n",
              "        google.colab.kernel.accessAllowed ? 'block' : 'none';\n",
              "\n",
              "      async function convertToInteractive(key) {\n",
              "        const element = document.querySelector('#df-f0ce60cb-77d5-4d30-abb7-cdef459a24ed');\n",
              "        const dataTable =\n",
              "          await google.colab.kernel.invokeFunction('convertToInteractive',\n",
              "                                                    [key], {});\n",
              "        if (!dataTable) return;\n",
              "\n",
              "        const docLinkHtml = 'Like what you see? Visit the ' +\n",
              "          '<a target=\"_blank\" href=https://colab.research.google.com/notebooks/data_table.ipynb>data table notebook</a>'\n",
              "          + ' to learn more about interactive tables.';\n",
              "        element.innerHTML = '';\n",
              "        dataTable['output_type'] = 'display_data';\n",
              "        await google.colab.output.renderOutput(dataTable, element);\n",
              "        const docLink = document.createElement('div');\n",
              "        docLink.innerHTML = docLinkHtml;\n",
              "        element.appendChild(docLink);\n",
              "      }\n",
              "    </script>\n",
              "  </div>\n",
              "\n",
              "\n",
              "<div id=\"df-2f08ae3a-90cd-4e32-9826-d7de39021c3a\">\n",
              "  <button class=\"colab-df-quickchart\" onclick=\"quickchart('df-2f08ae3a-90cd-4e32-9826-d7de39021c3a')\"\n",
              "            title=\"Suggest charts\"\n",
              "            style=\"display:none;\">\n",
              "\n",
              "<svg xmlns=\"http://www.w3.org/2000/svg\" height=\"24px\"viewBox=\"0 0 24 24\"\n",
              "     width=\"24px\">\n",
              "    <g>\n",
              "        <path d=\"M19 3H5c-1.1 0-2 .9-2 2v14c0 1.1.9 2 2 2h14c1.1 0 2-.9 2-2V5c0-1.1-.9-2-2-2zM9 17H7v-7h2v7zm4 0h-2V7h2v10zm4 0h-2v-4h2v4z\"/>\n",
              "    </g>\n",
              "</svg>\n",
              "  </button>\n",
              "\n",
              "<style>\n",
              "  .colab-df-quickchart {\n",
              "      --bg-color: #E8F0FE;\n",
              "      --fill-color: #1967D2;\n",
              "      --hover-bg-color: #E2EBFA;\n",
              "      --hover-fill-color: #174EA6;\n",
              "      --disabled-fill-color: #AAA;\n",
              "      --disabled-bg-color: #DDD;\n",
              "  }\n",
              "\n",
              "  [theme=dark] .colab-df-quickchart {\n",
              "      --bg-color: #3B4455;\n",
              "      --fill-color: #D2E3FC;\n",
              "      --hover-bg-color: #434B5C;\n",
              "      --hover-fill-color: #FFFFFF;\n",
              "      --disabled-bg-color: #3B4455;\n",
              "      --disabled-fill-color: #666;\n",
              "  }\n",
              "\n",
              "  .colab-df-quickchart {\n",
              "    background-color: var(--bg-color);\n",
              "    border: none;\n",
              "    border-radius: 50%;\n",
              "    cursor: pointer;\n",
              "    display: none;\n",
              "    fill: var(--fill-color);\n",
              "    height: 32px;\n",
              "    padding: 0;\n",
              "    width: 32px;\n",
              "  }\n",
              "\n",
              "  .colab-df-quickchart:hover {\n",
              "    background-color: var(--hover-bg-color);\n",
              "    box-shadow: 0 1px 2px rgba(60, 64, 67, 0.3), 0 1px 3px 1px rgba(60, 64, 67, 0.15);\n",
              "    fill: var(--button-hover-fill-color);\n",
              "  }\n",
              "\n",
              "  .colab-df-quickchart-complete:disabled,\n",
              "  .colab-df-quickchart-complete:disabled:hover {\n",
              "    background-color: var(--disabled-bg-color);\n",
              "    fill: var(--disabled-fill-color);\n",
              "    box-shadow: none;\n",
              "  }\n",
              "\n",
              "  .colab-df-spinner {\n",
              "    border: 2px solid var(--fill-color);\n",
              "    border-color: transparent;\n",
              "    border-bottom-color: var(--fill-color);\n",
              "    animation:\n",
              "      spin 1s steps(1) infinite;\n",
              "  }\n",
              "\n",
              "  @keyframes spin {\n",
              "    0% {\n",
              "      border-color: transparent;\n",
              "      border-bottom-color: var(--fill-color);\n",
              "      border-left-color: var(--fill-color);\n",
              "    }\n",
              "    20% {\n",
              "      border-color: transparent;\n",
              "      border-left-color: var(--fill-color);\n",
              "      border-top-color: var(--fill-color);\n",
              "    }\n",
              "    30% {\n",
              "      border-color: transparent;\n",
              "      border-left-color: var(--fill-color);\n",
              "      border-top-color: var(--fill-color);\n",
              "      border-right-color: var(--fill-color);\n",
              "    }\n",
              "    40% {\n",
              "      border-color: transparent;\n",
              "      border-right-color: var(--fill-color);\n",
              "      border-top-color: var(--fill-color);\n",
              "    }\n",
              "    60% {\n",
              "      border-color: transparent;\n",
              "      border-right-color: var(--fill-color);\n",
              "    }\n",
              "    80% {\n",
              "      border-color: transparent;\n",
              "      border-right-color: var(--fill-color);\n",
              "      border-bottom-color: var(--fill-color);\n",
              "    }\n",
              "    90% {\n",
              "      border-color: transparent;\n",
              "      border-bottom-color: var(--fill-color);\n",
              "    }\n",
              "  }\n",
              "</style>\n",
              "\n",
              "  <script>\n",
              "    async function quickchart(key) {\n",
              "      const quickchartButtonEl =\n",
              "        document.querySelector('#' + key + ' button');\n",
              "      quickchartButtonEl.disabled = true;  // To prevent multiple clicks.\n",
              "      quickchartButtonEl.classList.add('colab-df-spinner');\n",
              "      try {\n",
              "        const charts = await google.colab.kernel.invokeFunction(\n",
              "            'suggestCharts', [key], {});\n",
              "      } catch (error) {\n",
              "        console.error('Error during call to suggestCharts:', error);\n",
              "      }\n",
              "      quickchartButtonEl.classList.remove('colab-df-spinner');\n",
              "      quickchartButtonEl.classList.add('colab-df-quickchart-complete');\n",
              "    }\n",
              "    (() => {\n",
              "      let quickchartButtonEl =\n",
              "        document.querySelector('#df-2f08ae3a-90cd-4e32-9826-d7de39021c3a button');\n",
              "      quickchartButtonEl.style.display =\n",
              "        google.colab.kernel.accessAllowed ? 'block' : 'none';\n",
              "    })();\n",
              "  </script>\n",
              "</div>\n",
              "\n",
              "    </div>\n",
              "  </div>\n"
            ],
            "application/vnd.google.colaboratory.intrinsic+json": {
              "type": "dataframe"
            }
          },
          "metadata": {},
          "execution_count": 58
        }
      ]
    },
    {
      "cell_type": "markdown",
      "source": [
        "## <font color=\"orange\">*4. Archivar*</font>\n",
        "\n",
        "Los dataset resultantes se guardan en un formato pickle (.pkl)."
      ],
      "metadata": {
        "id": "zXCiPuMslD13"
      }
    },
    {
      "cell_type": "code",
      "source": [
        "file_path = '/content/drive/MyDrive/train_cleaned.pkl'\n",
        "\n",
        "if not os.path.exists(file_path):\n",
        "    train_cleaned.to_pickle(file_path)"
      ],
      "metadata": {
        "id": "jKfP9sV9UiOA"
      },
      "execution_count": null,
      "outputs": []
    },
    {
      "cell_type": "code",
      "source": [
        "file_path = '/content/drive/MyDrive/test_pred.pkl'\n",
        "\n",
        "if not os.path.exists(file_path):\n",
        "    test_pred.to_pickle(file_path)"
      ],
      "metadata": {
        "id": "pgRB531E8TmH"
      },
      "execution_count": null,
      "outputs": []
    }
  ]
}